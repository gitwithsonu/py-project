{
 "cells": [
  {
   "cell_type": "markdown",
   "source": [
    "### There are three main methods for saving and loading model in PyTorch\n",
    "\n",
    "1. `torch.save()` - allows to save a PyTorch object in Python's pickle formate\n",
    "2. `torch.load`  - allows to load a saved PyTorch object\n",
    "3. `torch.nn.Module.load_state_dict()`  -  this allows to load a model's saved state dictionary\n"
   ],
   "metadata": {
    "collapsed": false
   }
  },
  {
   "cell_type": "markdown",
   "source": [
    " ### Trying `torch.save()` mode\n",
    "\n",
    "```Python\n",
    "    import torch\n",
    "    import torch.nn\n",
    "\n",
    "    # let we have a model with name model\n",
    "    torch.save(model, PATH)\n",
    "    # for loading saved model\n",
    "    model = torch.load(PATH)\n",
    "    model.eval()\n",
    "```"
   ],
   "metadata": {
    "collapsed": false
   }
  },
  {
   "cell_type": "markdown",
   "source": [
    "### Trying to save state of model\n",
    "```Python\n",
    "    torch.save(model.state_dict(), PATH)\n",
    "\n",
    "\n",
    "\n",
    "    # for loading saved model\n",
    "    model = Model(*args, **kwargs)\n",
    "    # for reading saved model from given path\n",
    "    model.load_state_dict(torch.load(PATH))\n",
    "    model.eval()\n",
    "```"
   ],
   "metadata": {
    "collapsed": false
   }
  },
  {
   "cell_type": "markdown",
   "source": [
    "## The Implemented code is in 42 no noteBook"
   ],
   "metadata": {
    "collapsed": false
   }
  },
  {
   "cell_type": "markdown",
   "source": [
    "## Now we are going to test the saved File"
   ],
   "metadata": {
    "collapsed": false
   }
  },
  {
   "cell_type": "code",
   "execution_count": 2,
   "outputs": [],
   "source": [
    "import torch\n",
    "from torch import nn\n",
    "from pathlib import Path\n",
    "\n",
    "MODEL_PATH = Path(\"models\")\n",
    "MODEL_NAME = \"model_0.pth\"\n",
    "\n",
    "FINAL_SAVED_MODEL_PATH = MODEL_PATH/MODEL_NAME\n",
    "\n"
   ],
   "metadata": {
    "collapsed": false,
    "ExecuteTime": {
     "end_time": "2023-05-18T08:48:22.908942Z",
     "start_time": "2023-05-18T08:48:21.831460Z"
    }
   }
  },
  {
   "cell_type": "markdown",
   "source": [
    "### Loading the PyTorch Model\n",
    "### As we have saved our model with `state_dict()`\n",
    "### Now we have to create a new instance of our model class and load the saved state_dict() into that"
   ],
   "metadata": {
    "collapsed": false
   }
  },
  {
   "cell_type": "code",
   "execution_count": 3,
   "outputs": [
    {
     "data": {
      "text/plain": "<All keys matched successfully>"
     },
     "execution_count": 3,
     "metadata": {},
     "output_type": "execute_result"
    }
   ],
   "source": [
    "## the below was out class model on which we had trained the LinearRegression Model\n",
    "\n",
    "class SimpleModel(nn.Module):\n",
    "    def __init__(self):\n",
    "        super().__init__()\n",
    "        self.weights = nn.Parameter(torch.randn(1, requires_grad=True))\n",
    "        self.bias = nn.Parameter((torch.randn(1, requires_grad=True)))\n",
    "\n",
    "    def forward(self, x:torch.Tensor) -> torch.Tensor:\n",
    "        return self.weights*x + self.bias\n",
    "\n",
    "loaded_model_0 = SimpleModel()\n",
    "\n",
    "loaded_model_0.load_state_dict(torch.load(f=FINAL_SAVED_MODEL_PATH))"
   ],
   "metadata": {
    "collapsed": false,
    "ExecuteTime": {
     "end_time": "2023-05-18T08:54:05.353543Z",
     "start_time": "2023-05-18T08:54:05.344923Z"
    }
   }
  },
  {
   "cell_type": "code",
   "execution_count": 4,
   "outputs": [
    {
     "data": {
      "text/plain": "tensor([0.8736, 0.9397], grad_fn=<AddBackward0>)"
     },
     "execution_count": 4,
     "metadata": {},
     "output_type": "execute_result"
    }
   ],
   "source": [
    "loaded_model_0(torch.Tensor([0.8, 0.9]))"
   ],
   "metadata": {
    "collapsed": false,
    "ExecuteTime": {
     "end_time": "2023-05-18T08:54:43.050469Z",
     "start_time": "2023-05-18T08:54:43.034214Z"
    }
   }
  },
  {
   "cell_type": "code",
   "execution_count": null,
   "outputs": [],
   "source": [],
   "metadata": {
    "collapsed": false
   }
  }
 ],
 "metadata": {
  "kernelspec": {
   "display_name": "Python 3",
   "language": "python",
   "name": "python3"
  },
  "language_info": {
   "codemirror_mode": {
    "name": "ipython",
    "version": 2
   },
   "file_extension": ".py",
   "mimetype": "text/x-python",
   "name": "python",
   "nbconvert_exporter": "python",
   "pygments_lexer": "ipython2",
   "version": "2.7.6"
  }
 },
 "nbformat": 4,
 "nbformat_minor": 0
}
