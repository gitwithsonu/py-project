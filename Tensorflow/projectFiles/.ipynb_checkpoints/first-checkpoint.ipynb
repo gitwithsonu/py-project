{
 "cells": [
  {
   "cell_type": "code",
   "execution_count": 1,
   "metadata": {
    "is_executing": true
   },
   "outputs": [],
   "source": [
    "import tensorflow as tf\n",
    "import numpy as np"
   ]
  },
  {
   "cell_type": "code",
   "execution_count": 2,
   "metadata": {
    "ExecuteTime": {
     "end_time": "2023-06-14T19:37:38.878012Z",
     "start_time": "2023-06-14T19:37:38.863502Z"
    }
   },
   "outputs": [
    {
     "name": "stdout",
     "output_type": "stream",
     "text": [
      "tf.Tensor(4, shape=(), dtype=int32)\n"
     ]
    }
   ],
   "source": [
    "tensor_zero_d = tf.constant(4)\n",
    "print(tensor_zero_d)"
   ]
  },
  {
   "cell_type": "code",
   "execution_count": 3,
   "metadata": {
    "ExecuteTime": {
     "end_time": "2023-06-14T19:40:23.526251Z",
     "start_time": "2023-06-14T19:40:23.520755Z"
    }
   },
   "outputs": [
    {
     "name": "stdout",
     "output_type": "stream",
     "text": [
      "tf.Tensor(\n",
      "[[2 3 4 5]\n",
      " [1 2 3 5]], shape=(2, 4), dtype=int32)\n"
     ]
    }
   ],
   "source": [
    "tensor_2D = tf.constant([[2,3,4,5], [1,2,3, 5]])\n",
    "print(tensor_2D)"
   ]
  },
  {
   "cell_type": "code",
   "execution_count": 4,
   "metadata": {
    "ExecuteTime": {
     "end_time": "2023-06-14T19:47:07.500857Z",
     "start_time": "2023-06-14T19:47:07.496020Z"
    }
   },
   "outputs": [
    {
     "name": "stdout",
     "output_type": "stream",
     "text": [
      "tf.Tensor(\n",
      "[[[[1 2 3]\n",
      "   [1 2 3]\n",
      "   [1 2 3]]\n",
      "\n",
      "  [[1 2 3]\n",
      "   [1 2 3]\n",
      "   [1 2 3]]\n",
      "\n",
      "  [[1 2 3]\n",
      "   [1 2 3]\n",
      "   [1 2 3]]]\n",
      "\n",
      "\n",
      " [[[1 2 3]\n",
      "   [1 2 3]\n",
      "   [1 2 3]]\n",
      "\n",
      "  [[1 2 3]\n",
      "   [1 2 3]\n",
      "   [1 2 3]]\n",
      "\n",
      "  [[1 2 3]\n",
      "   [1 2 3]\n",
      "   [1 2 3]]]], shape=(2, 3, 3, 3), dtype=int32)\n"
     ]
    }
   ],
   "source": [
    "# Creating 4D Tensor\n",
    "\n",
    "tensor_4D = tf.constant(\n",
    "    [\n",
    "        [\n",
    "            [\n",
    "                [1,2,3],\n",
    "                [1,2,3],\n",
    "                [1,2,3]\n",
    "            ],\n",
    "            [\n",
    "                [1,2,3],\n",
    "                [1,2,3],\n",
    "                [1,2,3],\n",
    "            ],\n",
    "            [\n",
    "                [1,2,3],\n",
    "                [1,2,3],\n",
    "                [1,2,3]\n",
    "            ]\n",
    "        ],\n",
    "        [\n",
    "            [\n",
    "                [1,2,3],\n",
    "                [1,2,3],\n",
    "                [1,2,3]\n",
    "            ],\n",
    "            [\n",
    "                [1,2,3],\n",
    "                [1,2,3],\n",
    "                [1,2,3],\n",
    "            ],\n",
    "            [\n",
    "                [1,2,3],\n",
    "                [1,2,3],\n",
    "                [1,2,3]\n",
    "            ]\n",
    "        ]\n",
    "    ]\n",
    ")\n",
    "print(tensor_4D)"
   ]
  },
  {
   "cell_type": "code",
   "execution_count": 5,
   "metadata": {
    "ExecuteTime": {
     "end_time": "2023-06-14T19:53:54.854423Z",
     "start_time": "2023-06-14T19:53:54.851017Z"
    }
   },
   "outputs": [
    {
     "name": "stdout",
     "output_type": "stream",
     "text": [
      "tf.Tensor([1 2 4], shape=(3,), dtype=int64)\n"
     ]
    }
   ],
   "source": [
    "x = np.array([1,2,4])\n",
    "tf_x = tf.convert_to_tensor(x)\n",
    "print(tf_x)"
   ]
  },
  {
   "cell_type": "code",
   "execution_count": 6,
   "metadata": {
    "ExecuteTime": {
     "end_time": "2023-06-14T20:08:59.577759Z",
     "start_time": "2023-06-14T20:08:59.573196Z"
    }
   },
   "outputs": [
    {
     "name": "stdout",
     "output_type": "stream",
     "text": [
      "tf.Tensor(\n",
      "[[1. 0. 0. 0.]\n",
      " [0. 1. 0. 0.]\n",
      " [0. 0. 1. 0.]\n",
      " [0. 0. 0. 1.]], shape=(4, 4), dtype=float32)\n",
      "tf.Tensor(\n",
      "[[ True False False False]\n",
      " [False  True False False]\n",
      " [False False  True False]], shape=(3, 4), dtype=bool)\n",
      "tf.Tensor(\n",
      "[[[1. 0. 0. 0.]\n",
      "  [0. 1. 0. 0.]\n",
      "  [0. 0. 1. 0.]\n",
      "  [0. 0. 0. 1.]]\n",
      "\n",
      " [[1. 0. 0. 0.]\n",
      "  [0. 1. 0. 0.]\n",
      "  [0. 0. 1. 0.]\n",
      "  [0. 0. 0. 1.]]], shape=(2, 4, 4), dtype=float32)\n"
     ]
    }
   ],
   "source": [
    "# tf.eye used for Identify Matrix\n",
    "\n",
    "\n",
    "# eye_tensor = tf.eye(\n",
    "#     num_rows=None,\n",
    "#     num_columns=None,\n",
    "#     batch_shape=None,\n",
    "#     dtype= tf.dtypes.float32,\n",
    "#     name=None\n",
    "# )\n",
    "\n",
    "\n",
    "identity_matrix = tf.eye(num_rows=4)\n",
    "print(identity_matrix)\n",
    "second_identity_matrix = tf.eye(num_rows=3, num_columns=4, dtype= tf.dtypes.bool)\n",
    "print(second_identity_matrix)\n",
    "\n",
    "# Now let know what is batch_shape\n",
    "# batch_shape is used for extending matrix in 3D or Higher Dimension\n",
    "\n",
    "\n",
    "third_identity_matrix = tf.eye(num_rows=4, batch_shape=[2])\n",
    "print(third_identity_matrix)"
   ]
  },
  {
   "cell_type": "code",
   "execution_count": 7,
   "metadata": {
    "ExecuteTime": {
     "end_time": "2023-06-14T20:11:54.786902Z",
     "start_time": "2023-06-14T20:11:54.771898Z"
    }
   },
   "outputs": [
    {
     "name": "stdout",
     "output_type": "stream",
     "text": [
      "tf.Tensor(\n",
      "[[1. 1. 1. 1. 1.]\n",
      " [1. 1. 1. 1. 1.]\n",
      " [1. 1. 1. 1. 1.]\n",
      " [1. 1. 1. 1. 1.]], shape=(4, 5), dtype=float64)\n"
     ]
    }
   ],
   "source": [
    "# tf.ones method in tensor creates a given dimension size Matrix with every element = 1\n",
    "\n",
    "ones_tensor = tf.ones(\n",
    "    [4,5],\n",
    "    dtype = tf.dtypes.float64,\n",
    "    name=None\n",
    ")\n",
    "print(ones_tensor)"
   ]
  },
  {
   "cell_type": "code",
   "execution_count": 8,
   "metadata": {
    "ExecuteTime": {
     "end_time": "2023-06-14T20:15:29.919935Z",
     "start_time": "2023-06-14T20:15:29.877303Z"
    }
   },
   "outputs": [
    {
     "name": "stdout",
     "output_type": "stream",
     "text": [
      "tf.Tensor(\n",
      "[[1. 1. 1.]\n",
      " [1. 1. 1.]], shape=(2, 3), dtype=float64)\n"
     ]
    }
   ],
   "source": [
    "# tf.ones_like this is a method in tensorFlow for creating a ones Tensor of same shape of provided Tensor\n",
    "\n",
    "onesLike = tf.ones_like(\n",
    "    [[1,2,3],[2,3,4]],\n",
    "    dtype = tf.dtypes.float64,\n",
    "    name = None\n",
    ")\n",
    "print(onesLike)"
   ]
  },
  {
   "cell_type": "code",
   "execution_count": 9,
   "metadata": {
    "ExecuteTime": {
     "end_time": "2023-06-14T20:17:55.214771Z",
     "start_time": "2023-06-14T20:17:55.211474Z"
    }
   },
   "outputs": [
    {
     "name": "stdout",
     "output_type": "stream",
     "text": [
      "tf.Tensor(\n",
      "[[0. 0. 0.]\n",
      " [0. 0. 0.]], shape=(2, 3), dtype=float64)\n"
     ]
    }
   ],
   "source": [
    "# tf.zeros_like this is a method in tensorFlow for creating a zeros Tensor of same shape of provided Tensor\n",
    "\n",
    "zerosLike = tf.zeros_like(\n",
    "    [[1,2,3],[2,3,4]],\n",
    "    dtype = tf.dtypes.float64,\n",
    "    name = None\n",
    ")\n",
    "print(zerosLike)"
   ]
  },
  {
   "cell_type": "code",
   "execution_count": 10,
   "metadata": {
    "ExecuteTime": {
     "end_time": "2023-06-14T20:26:45.760804Z",
     "start_time": "2023-06-14T20:26:45.760313Z"
    }
   },
   "outputs": [],
   "source": [
    " # we can generate various random tensor using tf library\n",
    "# 1. First method is via using normal distribution\n",
    "# 2. Second method is via using Uniform distribution\n",
    "# 3. Gaussian Distribution......\n",
    "# .......so on many-many Distribution we can Have............\n",
    "\n",
    "random_tensor = tf.random.normal(\n",
    "    [3,4]\n",
    ")"
   ]
  },
  {
   "cell_type": "code",
   "execution_count": 11,
   "metadata": {},
   "outputs": [
    {
     "data": {
      "text/plain": [
       "1"
      ]
     },
     "execution_count": 11,
     "metadata": {},
     "output_type": "execute_result"
    }
   ],
   "source": [
    "1"
   ]
  }
 ],
 "metadata": {
  "kernelspec": {
   "display_name": "Python 3 (ipykernel)",
   "language": "python",
   "name": "python3"
  },
  "language_info": {
   "codemirror_mode": {
    "name": "ipython",
    "version": 3
   },
   "file_extension": ".py",
   "mimetype": "text/x-python",
   "name": "python",
   "nbconvert_exporter": "python",
   "pygments_lexer": "ipython3",
   "version": "3.10.10"
  }
 },
 "nbformat": 4,
 "nbformat_minor": 1
}
