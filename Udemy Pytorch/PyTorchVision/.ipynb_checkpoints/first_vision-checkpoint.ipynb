{
 "cells": [
  {
   "cell_type": "markdown",
   "metadata": {},
   "source": [
    "# What I am going to study in this Computer Vision Lesion\n",
    "\n",
    "### 1. Getting vision dataset to work with using `torchVision.datasets`\n",
    "### 2. Architecture of CNN with PyTorch\n",
    "### 3. An end-to-end multi-class image classification\n",
    "### 4. Steps in modelling with CNN and PyTorch\n",
    "    * Creating a CNN model with PyTorch\n",
    "    * Picking a loss and Optimizer\n",
    "    * Training a model\n",
    "    * Evaluating a model"
   ]
  },
  {
   "cell_type": "code",
   "execution_count": 2,
   "metadata": {
    "ExecuteTime": {
     "end_time": "2023-06-18T22:18:09.506258Z",
     "start_time": "2023-06-18T22:18:07.446893Z"
    }
   },
   "outputs": [],
   "source": [
    "import torch\n",
    "from torch import nn\n",
    "import torchvision\n",
    "from torchvision import datasets\n",
    "from torchvision import transforms\n",
    "from torchvision.transforms import ToTensor\n",
    "\n",
    "## Import matplot for visualization\n",
    "import matplotlib.pyplot as plt\n"
   ]
  },
  {
   "cell_type": "markdown",
   "metadata": {},
   "source": [
    "#### getting Dataset from MNIST DataSet"
   ]
  },
  {
   "cell_type": "code",
   "execution_count": 3,
   "metadata": {
    "ExecuteTime": {
     "end_time": "2023-06-18T22:18:38.205712Z",
     "start_time": "2023-06-18T22:18:09.505083Z"
    }
   },
   "outputs": [
    {
     "name": "stdout",
     "output_type": "stream",
     "text": [
      "Downloading http://fashion-mnist.s3-website.eu-central-1.amazonaws.com/train-images-idx3-ubyte.gz\n",
      "Downloading http://fashion-mnist.s3-website.eu-central-1.amazonaws.com/train-images-idx3-ubyte.gz to data/FashionMNIST/raw/train-images-idx3-ubyte.gz\n"
     ]
    },
    {
     "name": "stderr",
     "output_type": "stream",
     "text": [
      "100%|██████████| 26421880/26421880 [00:19<00:00, 1339904.72it/s]\n"
     ]
    },
    {
     "name": "stdout",
     "output_type": "stream",
     "text": [
      "Extracting data/FashionMNIST/raw/train-images-idx3-ubyte.gz to data/FashionMNIST/raw\n",
      "\n",
      "Downloading http://fashion-mnist.s3-website.eu-central-1.amazonaws.com/train-labels-idx1-ubyte.gz\n",
      "Downloading http://fashion-mnist.s3-website.eu-central-1.amazonaws.com/train-labels-idx1-ubyte.gz to data/FashionMNIST/raw/train-labels-idx1-ubyte.gz\n"
     ]
    },
    {
     "name": "stderr",
     "output_type": "stream",
     "text": [
      "100%|██████████| 29515/29515 [00:00<00:00, 77591.04it/s]\n"
     ]
    },
    {
     "name": "stdout",
     "output_type": "stream",
     "text": [
      "Extracting data/FashionMNIST/raw/train-labels-idx1-ubyte.gz to data/FashionMNIST/raw\n",
      "\n",
      "Downloading http://fashion-mnist.s3-website.eu-central-1.amazonaws.com/t10k-images-idx3-ubyte.gz\n",
      "Downloading http://fashion-mnist.s3-website.eu-central-1.amazonaws.com/t10k-images-idx3-ubyte.gz to data/FashionMNIST/raw/t10k-images-idx3-ubyte.gz\n"
     ]
    },
    {
     "name": "stderr",
     "output_type": "stream",
     "text": [
      "100%|██████████| 4422102/4422102 [00:04<00:00, 1051681.98it/s]\n"
     ]
    },
    {
     "name": "stdout",
     "output_type": "stream",
     "text": [
      "Extracting data/FashionMNIST/raw/t10k-images-idx3-ubyte.gz to data/FashionMNIST/raw\n",
      "\n",
      "Downloading http://fashion-mnist.s3-website.eu-central-1.amazonaws.com/t10k-labels-idx1-ubyte.gz\n",
      "Downloading http://fashion-mnist.s3-website.eu-central-1.amazonaws.com/t10k-labels-idx1-ubyte.gz to data/FashionMNIST/raw/t10k-labels-idx1-ubyte.gz\n"
     ]
    },
    {
     "name": "stderr",
     "output_type": "stream",
     "text": [
      "100%|██████████| 5148/5148 [00:00<00:00, 674084.57it/s]"
     ]
    },
    {
     "name": "stdout",
     "output_type": "stream",
     "text": [
      "Extracting data/FashionMNIST/raw/t10k-labels-idx1-ubyte.gz to data/FashionMNIST/raw\n",
      "\n"
     ]
    },
    {
     "name": "stderr",
     "output_type": "stream",
     "text": [
      "\n"
     ]
    }
   ],
   "source": [
    "train_data = datasets.FashionMNIST(\n",
    "    root=\"data\", # this will we be the folder where we will download Data.\n",
    "    train = True, # this confirms that we are going to download training data, if false it will download test Data\n",
    "    download = False,\n",
    "    transform = torchvision.transforms.ToTensor(),\n",
    "    target_transform = None, # How do we want to transform the labels/targets ?\n",
    ")\n",
    "\n",
    "test_data = datasets.FashionMNIST(\n",
    "    root = \"data\",\n",
    "    train = False,\n",
    "    download = False,\n",
    "    transform = torchvision.transforms.ToTensor(),\n",
    "    target_transform = None\n",
    ")"
   ]
  },
  {
   "cell_type": "code",
   "execution_count": 4,
   "metadata": {
    "ExecuteTime": {
     "end_time": "2023-06-18T22:25:37.766364Z",
     "start_time": "2023-06-18T22:25:37.755861Z"
    }
   },
   "outputs": [
    {
     "data": {
      "text/plain": [
       "(60000, 10000)"
      ]
     },
     "execution_count": 4,
     "metadata": {},
     "output_type": "execute_result"
    }
   ],
   "source": [
    "len(train_data), len(test_data)"
   ]
  },
  {
   "cell_type": "code",
   "execution_count": 47,
   "metadata": {
    "ExecuteTime": {
     "end_time": "2023-06-23T22:10:38.992522Z",
     "start_time": "2023-06-23T22:10:38.948355Z"
    }
   },
   "outputs": [
    {
     "data": {
      "text/plain": [
       "torch.Size([1, 28, 28])"
      ]
     },
     "execution_count": 47,
     "metadata": {},
     "output_type": "execute_result"
    }
   ],
   "source": [
    "# for seeing train_data\n",
    "image, label = train_data[0]\n",
    "class_names = train_data.classes\n",
    "# class_names = train_data.classes\n",
    "image.shape"
   ]
  },
  {
   "cell_type": "code",
   "execution_count": 30,
   "metadata": {
    "ExecuteTime": {
     "end_time": "2023-06-20T19:17:16.753028Z",
     "start_time": "2023-06-20T19:17:16.684462Z"
    }
   },
   "outputs": [
    {
     "data": {
      "image/png": "[encoded data removed]",
      "text/plain": [
       "<Figure size 640x480 with 1 Axes>"
      ]
     },
     "metadata": {},
     "output_type": "display_data"
    }
   ],
   "source": [
    "np_Image = image[0].numpy() * 255\n",
    "# np_Image.shape\n",
    "plt.imshow(np_Image, cmap='gray')\n",
    "plt.title(label)\n",
    "plt.axis(False)  # Optional: Turn off axes\n",
    "plt.show()"
   ]
  },
  {
   "cell_type": "code",
   "execution_count": 31,
   "metadata": {
    "ExecuteTime": {
     "end_time": "2023-06-20T19:34:40.641745Z",
     "start_time": "2023-06-20T19:34:40.635122Z"
    }
   },
   "outputs": [
    {
     "data": {
      "text/plain": [
       "torchvision.datasets.mnist.FashionMNIST"
      ]
     },
     "execution_count": 31,
     "metadata": {},
     "output_type": "execute_result"
    }
   ],
   "source": [
    "type(train_data)"
   ]
  },
  {
   "cell_type": "code",
   "execution_count": 38,
   "metadata": {
    "ExecuteTime": {
     "end_time": "2023-06-20T20:22:33.764789Z",
     "start_time": "2023-06-20T20:22:33.759961Z"
    }
   },
   "outputs": [],
   "source": [
    "from torch.utils.data import DataLoader\n",
    "import numpy as np"
   ]
  },
  {
   "cell_type": "code",
   "execution_count": 33,
   "metadata": {
    "ExecuteTime": {
     "end_time": "2023-06-20T19:50:24.325277Z",
     "start_time": "2023-06-20T19:50:24.298084Z"
    }
   },
   "outputs": [
    {
     "data": {
      "text/plain": [
       "(<torch.utils.data.dataloader.DataLoader at 0x13fc41ff0>,\n",
       " <torch.utils.data.dataloader.DataLoader at 0x13fc424d0>)"
      ]
     },
     "execution_count": 33,
     "metadata": {},
     "output_type": "execute_result"
    }
   ],
   "source": [
    "# Setup the batch size hyperParameter\n",
    "BATCH_SIZE = 32\n",
    "\n",
    "train_dataLoader = DataLoader(\n",
    "    dataset=train_data,\n",
    "    batch_size= BATCH_SIZE,\n",
    "    shuffle=True\n",
    ")\n",
    "test_dataLoader = DataLoader(\n",
    "    dataset=test_data,\n",
    "    batch_size=BATCH_SIZE,\n",
    "    shuffle=False\n",
    ")\n",
    "train_dataLoader, test_dataLoader"
   ]
  },
  {
   "cell_type": "code",
   "execution_count": null,
   "metadata": {},
   "outputs": [],
   "source": [
    "torch.manual_seed(42)"
   ]
  },
  {
   "cell_type": "code",
   "execution_count": 34,
   "metadata": {
    "ExecuteTime": {
     "end_time": "2023-06-20T20:04:37.597775Z",
     "start_time": "2023-06-20T20:04:37.560243Z"
    }
   },
   "outputs": [
    {
     "data": {
      "text/plain": [
       "(torch.Size([32, 1, 28, 28]), torch.Size([32]))"
      ]
     },
     "execution_count": 34,
     "metadata": {},
     "output_type": "execute_result"
    }
   ],
   "source": [
    "# let's see what is inside the training Data dataloader\n",
    "\n",
    "train_features_batch, train_labels_batch = next(iter(train_dataLoader))\n",
    "train_features_batch.shape, train_labels_batch.shape"
   ]
  },
  {
   "cell_type": "markdown",
   "metadata": {},
   "source": []
  },
  {
   "cell_type": "code",
   "execution_count": 42,
   "metadata": {
    "ExecuteTime": {
     "end_time": "2023-06-20T20:24:17.654590Z",
     "start_time": "2023-06-20T20:24:17.579025Z"
    }
   },
   "outputs": [
    {
     "data": {
      "image/png": "[encoded data removed]",
      "text/plain": [
       "<Figure size 640x480 with 1 Axes>"
      ]
     },
     "metadata": {},
     "output_type": "display_data"
    }
   ],
   "source": [
    "img, label = train_features_batch[5], train_labels_batch[5]\n",
    "\n",
    "# Visualize the image using plt.imshow()\n",
    "plt.imshow(img.squeeze(), cmap=\"gray\")\n",
    "plt.axis(\"off\")\n",
    "plt.title()\n",
    "plt.show()\n"
   ]
  },
  {
   "cell_type": "code",
   "execution_count": 45,
   "metadata": {
    "ExecuteTime": {
     "end_time": "2023-06-20T20:46:27.001633Z",
     "start_time": "2023-06-20T20:46:26.990968Z"
    }
   },
   "outputs": [
    {
     "data": {
      "text/plain": [
       "tensor([0.0000, 0.0000, 0.0000, 0.0000, 0.0000, 0.0000, 0.0000, 0.0000, 0.0000,\n",
       "        0.0000, 0.0000, 0.0000, 0.0000, 0.0000, 0.0000, 0.0000, 0.0000, 0.0000,\n",
       "        0.0000, 0.0000, 0.0000, 0.0000, 0.0000, 0.0000, 0.0000, 0.0000, 0.0000,\n",
       "        0.0000, 0.0000, 0.0000, 0.0000, 0.0000, 0.0000, 0.0000, 0.0000, 0.0000,\n",
       "        0.0000, 0.0000, 0.0000, 0.0000, 0.0000, 0.0000, 0.0000, 0.0000, 0.0000,\n",
       "        0.0000, 0.0000, 0.0000, 0.0000, 0.0000, 0.0000, 0.0000, 0.0000, 0.0000,\n",
       "        0.0000, 0.0000, 0.0000, 0.0000, 0.0000, 0.0000, 0.0000, 0.0000, 0.0000,\n",
       "        0.0000, 0.0000, 0.0000, 0.0000, 0.0000, 0.0000, 0.0000, 0.0000, 0.0000,\n",
       "        0.0000, 0.0000, 0.0000, 0.0000, 0.0000, 0.0000, 0.0000, 0.0000, 0.0000,\n",
       "        0.0000, 0.0000, 0.0000, 0.0000, 0.0000, 0.0000, 0.0000, 0.0000, 0.0000,\n",
       "        0.0000, 0.0000, 0.0000, 0.0000, 0.0000, 0.0000, 0.0000, 0.0000, 0.0000,\n",
       "        0.0000, 0.0000, 0.0000, 0.0000, 0.0000, 0.0000, 0.0000, 0.0000, 0.0000,\n",
       "        0.0000, 0.0000, 0.0000, 0.0000, 0.0000, 0.0000, 0.0000, 0.0000, 0.0000,\n",
       "        0.0000, 0.0000, 0.0000, 0.0000, 0.0000, 0.0000, 0.0000, 0.0000, 0.0000,\n",
       "        0.0000, 0.0000, 0.0000, 0.0000, 0.0000, 0.0000, 0.0000, 0.0000, 0.0000,\n",
       "        0.0000, 0.0000, 0.0000, 0.0000, 0.0000, 0.0000, 0.0000, 0.0000, 0.0000,\n",
       "        0.0000, 0.0000, 0.0000, 0.0000, 0.0000, 0.0000, 0.0000, 0.0000, 0.0000,\n",
       "        0.0000, 0.0000, 0.0000, 0.0000, 0.0000, 0.0000, 0.0000, 0.0000, 0.0000,\n",
       "        0.0000, 0.0000, 0.0000, 0.0000, 0.0000, 0.0000, 0.0000, 0.0000, 0.0000,\n",
       "        0.0000, 0.0000, 0.0000, 0.0000, 0.0000, 0.0000, 0.0000, 0.0000, 0.0000,\n",
       "        0.0000, 0.0000, 0.0000, 0.0000, 0.0000, 0.0000, 0.0000, 0.0000, 0.0000,\n",
       "        0.0980, 0.8118, 0.8039, 0.7882, 0.7804, 0.7451, 0.0000, 0.0000, 0.0000,\n",
       "        0.0000, 0.0000, 0.0000, 0.0000, 0.0000, 0.0000, 0.0000, 0.0039, 0.0000,\n",
       "        0.0118, 0.0000, 0.0431, 0.7765, 0.6353, 0.5804, 0.5216, 0.4745, 0.4392,\n",
       "        0.3294, 0.8157, 0.9843, 0.8627, 0.8510, 0.8824, 0.9725, 0.0000, 0.0000,\n",
       "        0.0000, 0.0000, 0.0000, 0.0000, 0.0000, 0.0000, 0.0000, 0.0000, 0.0000,\n",
       "        0.0000, 0.0000, 0.0000, 0.3765, 0.8980, 0.8784, 0.9216, 0.9059, 0.9098,\n",
       "        0.9843, 0.9882, 0.8941, 0.7961, 0.8353, 0.8196, 0.8667, 0.8392, 0.0000,\n",
       "        0.0000, 0.0000, 0.0000, 0.0000, 0.0000, 0.0000, 0.0000, 0.0000, 0.0000,\n",
       "        0.0000, 0.0039, 0.0000, 0.0000, 0.8235, 0.8510, 0.8353, 0.8706, 0.8510,\n",
       "        0.8235, 0.8196, 0.8000, 0.8235, 0.8510, 0.8196, 0.7882, 0.8588, 0.7647,\n",
       "        0.0000, 0.0000, 0.0000, 0.0000, 0.0000, 0.0000, 0.0000, 0.0000, 0.0000,\n",
       "        0.0000, 0.0000, 0.0078, 0.0000, 0.5255, 0.8980, 0.8078, 0.8667, 0.8667,\n",
       "        0.8549, 0.8667, 0.8980, 0.8706, 0.8392, 0.8353, 0.8353, 0.7843, 0.8627,\n",
       "        0.8392, 0.0000, 0.0000, 0.0000, 0.0000, 0.0000, 0.0000, 0.0000, 0.0000,\n",
       "        0.0000, 0.0000, 0.0157, 0.0000, 0.1098, 0.9804, 0.8353, 0.8392, 0.8392,\n",
       "        0.8549, 0.8784, 0.8431, 0.8667, 0.8510, 0.8078, 0.8196, 0.8392, 0.8353,\n",
       "        0.8392, 0.9569, 0.0039, 0.0039, 0.0000, 0.0000, 0.0000, 0.0000, 0.0000,\n",
       "        0.0000, 0.0000, 0.0000, 0.0000, 0.0000, 0.8235, 0.8863, 0.7490, 0.8078,\n",
       "        0.8353, 0.8588, 0.8784, 0.8588, 0.8510, 0.8706, 0.8510, 0.8431, 0.8392,\n",
       "        0.8510, 0.8118, 0.9294, 0.3373, 0.0000, 0.0000, 0.0000, 0.0000, 0.0000,\n",
       "        0.0039, 0.0118, 0.0118, 0.0000, 0.0000, 0.6941, 0.9647, 0.7529, 0.8039,\n",
       "        0.8431, 0.8471, 0.8510, 0.8627, 0.8667, 0.8549, 0.8706, 0.8588, 0.8627,\n",
       "        0.8667, 0.8510, 0.8157, 0.8902, 0.5412, 0.0000, 0.0000, 0.0000, 0.0039,\n",
       "        0.0157, 0.0118, 0.0000, 0.0000, 0.0000, 0.5843, 0.9647, 0.7647, 0.8078,\n",
       "        0.8667, 0.8784, 0.8824, 0.8784, 0.8784, 0.8745, 0.8824, 0.8784, 0.8667,\n",
       "        0.8784, 0.8706, 0.8471, 0.8235, 0.8627, 0.6627, 0.0000, 0.0157, 0.0118,\n",
       "        0.0000, 0.0000, 0.0000, 0.0000, 0.2275, 0.7843, 0.9608, 0.7804, 0.7882,\n",
       "        0.8235, 0.8392, 0.8431, 0.8510, 0.8549, 0.8667, 0.8549, 0.8667, 0.8471,\n",
       "        0.8549, 0.8392, 0.8235, 0.8314, 0.8157, 0.8431, 0.7294, 0.0000, 0.0000,\n",
       "        0.0000, 0.0000, 0.0431, 0.3333, 0.7647, 0.9490, 0.8157, 0.7725, 0.8078,\n",
       "        0.7961, 0.8314, 0.8667, 0.8588, 0.8824, 0.8627, 0.8431, 0.8392, 0.8627,\n",
       "        0.8549, 0.8275, 0.8275, 0.8314, 0.8431, 0.8118, 0.8627, 0.5882, 0.0000,\n",
       "        0.1843, 0.6471, 0.7216, 0.8471, 0.9373, 0.8471, 0.7647, 0.7647, 0.8000,\n",
       "        0.8118, 0.8353, 0.8471, 0.8863, 0.8784, 0.8902, 0.8667, 0.8667, 0.8863,\n",
       "        0.8706, 0.8510, 0.8588, 0.8941, 0.8824, 0.8824, 0.8235, 0.9333, 0.3961,\n",
       "        0.0000, 0.7725, 0.8431, 0.8000, 0.7569, 0.7804, 0.7569, 0.7725, 0.7765,\n",
       "        0.8353, 0.8235, 0.8588, 0.8627, 0.8510, 0.8588, 0.8431, 0.8588, 0.9020,\n",
       "        1.0000, 1.0000, 0.9765, 0.9451, 0.8431, 0.8549, 0.8392, 0.7804, 0.8824,\n",
       "        0.5373, 0.2510, 0.8784, 0.7765, 0.7961, 0.8000, 0.7804, 0.7647, 0.7843,\n",
       "        0.7765, 0.7843, 0.7647, 0.8157, 0.8549, 0.8549, 0.8471, 0.8980, 1.0000,\n",
       "        0.9020, 0.5686, 0.2745, 0.1843, 0.8471, 0.7882, 0.7647, 0.7922, 0.7765,\n",
       "        0.8588, 0.6235, 0.3412, 0.8980, 0.9373, 0.9176, 0.8941, 0.8549, 0.8353,\n",
       "        0.8392, 0.7804, 0.7725, 0.8000, 0.8392, 0.8431, 0.8902, 0.9922, 0.7294,\n",
       "        0.2196, 0.0000, 0.0000, 0.0000, 0.0000, 0.9255, 0.8000, 0.7686, 0.7686,\n",
       "        0.7529, 0.8000, 0.6431, 0.0000, 0.0275, 0.3804, 0.6980, 0.8980, 0.9765,\n",
       "        1.0000, 1.0000, 1.0000, 1.0000, 1.0000, 0.9882, 0.9882, 0.7725, 0.1843,\n",
       "        0.0000, 0.0000, 0.0000, 0.0118, 0.0000, 0.0000, 1.0000, 0.8667, 0.9490,\n",
       "        0.9451, 0.9255, 0.9804, 0.8588, 0.0000, 0.0000, 0.0000, 0.0000, 0.0000,\n",
       "        0.0000, 0.1098, 0.2000, 0.2588, 0.3216, 0.3137, 0.1961, 0.0627, 0.0000,\n",
       "        0.0000, 0.0000, 0.0078, 0.0078, 0.0000, 0.0000, 0.0000, 0.5137, 0.4549,\n",
       "        0.3843, 0.3765, 0.3529, 0.3569, 0.1804, 0.0000, 0.0000, 0.0000, 0.0000,\n",
       "        0.0000, 0.0000, 0.0000, 0.0000, 0.0000, 0.0000, 0.0000, 0.0000, 0.0000,\n",
       "        0.0000, 0.0000, 0.0000, 0.0000, 0.0000, 0.0000, 0.0000, 0.0000, 0.0000,\n",
       "        0.0000, 0.0000, 0.0000, 0.0000, 0.0000, 0.0000, 0.0000, 0.0000, 0.0000,\n",
       "        0.0000, 0.0000, 0.0000, 0.0000, 0.0000, 0.0000, 0.0000, 0.0000, 0.0000,\n",
       "        0.0000, 0.0000, 0.0000, 0.0000, 0.0000, 0.0000, 0.0000, 0.0000, 0.0000,\n",
       "        0.0000, 0.0000, 0.0000, 0.0000, 0.0000, 0.0000, 0.0000, 0.0000, 0.0000,\n",
       "        0.0000, 0.0000, 0.0000, 0.0000, 0.0000, 0.0000, 0.0000, 0.0000, 0.0000,\n",
       "        0.0000, 0.0000, 0.0000, 0.0000, 0.0000, 0.0000, 0.0000, 0.0000, 0.0000,\n",
       "        0.0000, 0.0000, 0.0000, 0.0000, 0.0000, 0.0000, 0.0000, 0.0000, 0.0000,\n",
       "        0.0000, 0.0000, 0.0000, 0.0000, 0.0000, 0.0000, 0.0000, 0.0000, 0.0000,\n",
       "        0.0000, 0.0000, 0.0000, 0.0000, 0.0000, 0.0000, 0.0000, 0.0000, 0.0000,\n",
       "        0.0000, 0.0000, 0.0000, 0.0000, 0.0000, 0.0000, 0.0000, 0.0000, 0.0000,\n",
       "        0.0000, 0.0000, 0.0000, 0.0000, 0.0000, 0.0000, 0.0000, 0.0000, 0.0000,\n",
       "        0.0000, 0.0000, 0.0000, 0.0000, 0.0000, 0.0000, 0.0000, 0.0000, 0.0000,\n",
       "        0.0000, 0.0000, 0.0000, 0.0000, 0.0000, 0.0000, 0.0000, 0.0000, 0.0000,\n",
       "        0.0000])"
      ]
     },
     "execution_count": 45,
     "metadata": {},
     "output_type": "execute_result"
    }
   ],
   "source": [
    "# Creating a Flatter()\n",
    "flatten_model = nn.Flatten()\n",
    "x = train_features_batch[0]\n",
    "output = flatten_model(x)\n",
    "output.squeeze()"
   ]
  },
  {
   "cell_type": "markdown",
   "metadata": {},
   "source": [
    "## Now let creating model for training data,"
   ]
  },
  {
   "cell_type": "code",
   "execution_count": 48,
   "metadata": {
    "ExecuteTime": {
     "end_time": "2023-06-23T22:12:22.716480Z",
     "start_time": "2023-06-23T22:12:22.711685Z"
    }
   },
   "outputs": [],
   "source": [
    "# first let Create a class for Training model.\n",
    "\n",
    "class FashionMNISTModelV0(nn.Module):\n",
    "    def __init__(self, input_shape:int, hidden_units:int, output_shape:int):\n",
    "        super().__init__()\n",
    "        self.layer_stack = nn.Sequential(\n",
    "            nn.Flatten(),\n",
    "            nn.Linear(in_features=input_shape, out_features=hidden_units),\n",
    "            nn.Linear(in_features=hidden_units, out_features=output_shape)\n",
    "        )\n",
    "    def forward(self, x):\n",
    "        return  self.layer_stack(x)"
   ]
  },
  {
   "cell_type": "code",
   "execution_count": 50,
   "metadata": {
    "ExecuteTime": {
     "end_time": "2023-06-23T22:12:29.256461Z",
     "start_time": "2023-06-23T22:12:29.249072Z"
    }
   },
   "outputs": [
    {
     "data": {
      "text/plain": [
       "FashionMNISTModelV0(\n",
       "  (layer_stack): Sequential(\n",
       "    (0): Flatten(start_dim=1, end_dim=-1)\n",
       "    (1): Linear(in_features=784, out_features=10, bias=True)\n",
       "    (2): Linear(in_features=10, out_features=10, bias=True)\n",
       "  )\n",
       ")"
      ]
     },
     "execution_count": 50,
     "metadata": {},
     "output_type": "execute_result"
    }
   ],
   "source": [
    "torch.manual_seed(42)\n",
    "\n",
    "model_0 = FashionMNISTModelV0(\n",
    "    input_shape=784,\n",
    "    hidden_units=10,\n",
    "    output_shape= len(class_names)\n",
    ")\n",
    "model_0"
   ]
  },
  {
   "cell_type": "code",
   "execution_count": 51,
   "metadata": {
    "ExecuteTime": {
     "end_time": "2023-06-23T22:13:43.122867Z",
     "start_time": "2023-06-23T22:13:43.112009Z"
    }
   },
   "outputs": [
    {
     "data": {
      "text/plain": [
       "tensor([[-0.0315,  0.3171,  0.0531, -0.2525,  0.5959,  0.2112,  0.3233,  0.2694,\n",
       "         -0.1004,  0.0157]], grad_fn=<AddmmBackward0>)"
      ]
     },
     "execution_count": 51,
     "metadata": {},
     "output_type": "execute_result"
    }
   ],
   "source": [
    "dummy = torch.rand([1, 28, 28])\n",
    "model_0(dummy)"
   ]
  },
  {
   "cell_type": "markdown",
   "metadata": {},
   "source": [
    "### Setting loss function and Optimizer\n",
    "\n",
    "<font color=\"Green\" size= \"10\"> Setting loss function and Optimizer </font>\n",
    "\n",
    "#### Since we're working with multi-class data, our loss function will be `nn.CrossEntropyLoss()`"
   ]
  },
  {
   "cell_type": "code",
   "execution_count": null,
   "metadata": {},
   "outputs": [],
   "source": []
  }
 ],
 "metadata": {
  "kernelspec": {
   "display_name": "Python 3 (ipykernel)",
   "language": "python",
   "name": "python3"
  },
  "language_info": {
   "codemirror_mode": {
    "name": "ipython",
    "version": 3
   },
   "file_extension": ".py",
   "mimetype": "text/x-python",
   "name": "python",
   "nbconvert_exporter": "python",
   "pygments_lexer": "ipython3",
   "version": "3.10.10"
  }
 },
 "nbformat": 4,
 "nbformat_minor": 1
}
