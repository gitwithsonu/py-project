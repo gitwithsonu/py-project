{
 "cells": [
  {
   "cell_type": "code",
   "execution_count": 3,
   "metadata": {
    "collapsed": true,
    "ExecuteTime": {
     "end_time": "2023-08-10T04:39:51.038279Z",
     "start_time": "2023-08-10T04:39:29.277092Z"
    }
   },
   "outputs": [
    {
     "name": "stdout",
     "output_type": "stream",
     "text": [
      "voices=[Voice(voice_id='21m00Tcm4TlvDq8ikWAM', name='Rachel', category='premade', description=None, labels={'accent': 'american', 'description': 'calm', 'age': 'young', 'gender': 'female', 'use case': 'narration'}, samples=None, settings=VoiceSettings(stability=0.5, similarity_boost=0.75), design=None, preview_url='https://storage.googleapis.com/eleven-public-prod/premade/voices/21m00Tcm4TlvDq8ikWAM/6edb9076-c3e4-420c-b6ab-11d43fe341c8.mp3'), Voice(voice_id='2EiwWnXFnvU5JabPnv8n', name='Clyde', category='premade', description=None, labels={'accent': 'american', 'description': 'war veteran', 'age': 'middle aged', 'gender': 'male', 'use case': 'video games'}, samples=None, settings=VoiceSettings(stability=0.5, similarity_boost=0.75), design=None, preview_url='https://storage.googleapis.com/eleven-public-prod/premade/voices/2EiwWnXFnvU5JabPnv8n/cce34f6b-38d2-45e7-90a2-59856751f321.mp3'), Voice(voice_id='AZnzlk1XvdvUeBnXmlld', name='Domi', category='premade', description=None, labels={'accent': 'american', 'description': 'strong', 'age': 'young', 'gender': 'female', 'use case': 'narration'}, samples=None, settings=VoiceSettings(stability=0.5, similarity_boost=0.75), design=None, preview_url='https://storage.googleapis.com/eleven-public-prod/premade/voices/AZnzlk1XvdvUeBnXmlld/2ef59771-f805-4382-b336-e55de427b7bf.mp3'), Voice(voice_id='CYw3kZ02Hs0563khs1Fj', name='Dave', category='premade', description=None, labels={'accent': 'british-essex', 'description': 'conversational', 'age': 'young', 'gender': 'male', 'use case': 'video games'}, samples=None, settings=VoiceSettings(stability=0.5, similarity_boost=0.75), design=None, preview_url='https://storage.googleapis.com/eleven-public-prod/premade/voices/CYw3kZ02Hs0563khs1Fj/51737fd2-d19b-4f9f-b386-63700b2f85a9.mp3'), Voice(voice_id='D38z5RcWu1voky8WS1ja', name='Fin', category='premade', description=None, labels={'accent': 'irish', 'description': 'sailor', 'age': 'old', 'gender': 'male', 'use case': 'video games'}, samples=None, settings=VoiceSettings(stability=0.5, similarity_boost=0.75), design=None, preview_url='https://storage.googleapis.com/eleven-public-prod/premade/voices/D38z5RcWu1voky8WS1ja/255c0ac0-d8a3-40df-9da3-9e79522f6b11.mp3'), Voice(voice_id='EXAVITQu4vr4xnSDxMaL', name='Bella', category='premade', description=None, labels={'accent': 'american', 'description': 'soft', 'age': 'young', 'gender': 'female', 'use case': 'narration'}, samples=None, settings=VoiceSettings(stability=0.5, similarity_boost=0.75), design=None, preview_url='https://storage.googleapis.com/eleven-public-prod/premade/voices/EXAVITQu4vr4xnSDxMaL/cddaaa2f-7d3b-432c-87e8-fff7fd80baaa.mp3'), Voice(voice_id='ErXwobaYiN019PkySvjV', name='Antoni', category='premade', description=None, labels={'accent': 'american', 'description': 'well-rounded', 'age': 'young', 'gender': 'male', 'use case': 'narration'}, samples=None, settings=VoiceSettings(stability=0.5, similarity_boost=0.75), design=None, preview_url='https://storage.googleapis.com/eleven-public-prod/premade/voices/ErXwobaYiN019PkySvjV/cfc6b784-dfd3-48dd-a411-cd795d90fd43.mp3'), Voice(voice_id='GBv7mTt0atIp3Br8iCZE', name='Thomas', category='premade', description=None, labels={'accent': 'american', 'description': 'calm', 'age': 'young', 'gender': 'male', 'use case': 'meditation'}, samples=None, settings=VoiceSettings(stability=0.5, similarity_boost=0.75), design=None, preview_url='https://storage.googleapis.com/eleven-public-prod/premade/voices/GBv7mTt0atIp3Br8iCZE/0d4964e4-48b4-484e-b619-008dc72cbaae.mp3'), Voice(voice_id='IKne3meq5aSn9XLyUdCD', name='Charlie', category='premade', description=None, labels={'accent': 'australian', 'description': 'casual', 'age': 'middle aged', 'gender': 'male', 'use case': 'conversational'}, samples=None, settings=VoiceSettings(stability=0.5, similarity_boost=0.75), design=None, preview_url='https://storage.googleapis.com/eleven-public-prod/premade/voices/IKne3meq5aSn9XLyUdCD/e1f67e75-03a4-460b-89f0-389d8ba5a4be.mp3'), Voice(voice_id='LcfcDJNUP1GQjkzn1xUU', name='Emily', category='premade', description=None, labels={'accent': 'american', 'description': 'calm', 'age': 'young', 'gender': 'female', 'use case': 'meditation'}, samples=None, settings=VoiceSettings(stability=0.5, similarity_boost=0.75), design=None, preview_url='https://storage.googleapis.com/eleven-public-prod/premade/voices/LcfcDJNUP1GQjkzn1xUU/3ed20510-61cc-4472-995e-79fae63591a5.mp3'), Voice(voice_id='MF3mGyEYCl7XYWbV9V6O', name='Elli', category='premade', description=None, labels={'accent': 'american', 'description': 'emotional', 'age': 'young', 'gender': 'female', 'use case': 'narration'}, samples=None, settings=VoiceSettings(stability=0.5, similarity_boost=0.75), design=None, preview_url='https://storage.googleapis.com/eleven-public-prod/premade/voices/MF3mGyEYCl7XYWbV9V6O/65cf2bff-3d77-4d9e-82ab-67d51df5f941.mp3'), Voice(voice_id='N2lVS1w4EtoT3dr4eOWO', name='Callum', category='premade', description=None, labels={'accent': 'american', 'description': 'hoarse', 'age': 'middle aged', 'gender': 'male', 'use case': 'video games'}, samples=None, settings=VoiceSettings(stability=0.5, similarity_boost=0.75), design=None, preview_url='https://storage.googleapis.com/eleven-public-prod/premade/voices/N2lVS1w4EtoT3dr4eOWO/d0b3f52a-f106-4879-a954-480afdb37866.mp3'), Voice(voice_id='ODq5zmih8GrVes37Dizd', name='Patrick', category='premade', description=None, labels={'accent': 'american', 'description': 'shouty', 'age': 'middle aged', 'gender': 'male', 'use case': 'video games'}, samples=None, settings=VoiceSettings(stability=0.5, similarity_boost=0.75), design=None, preview_url='https://storage.googleapis.com/eleven-public-prod/premade/voices/ODq5zmih8GrVes37Dizd/bccae5c9-8968-450f-85cc-f0ad5bea9592.mp3'), Voice(voice_id='SOYHLrjzK2X1ezoPC6cr', name='Harry', category='premade', description=None, labels={'accent': 'american', 'description': 'anxious', 'age': 'young', 'gender': 'male', 'use case': 'video games'}, samples=None, settings=VoiceSettings(stability=0.5, similarity_boost=0.75), design=None, preview_url='https://storage.googleapis.com/eleven-public-prod/premade/voices/SOYHLrjzK2X1ezoPC6cr/f3fe35c4-3b8b-4585-bb9d-0622783148a4.mp3'), Voice(voice_id='TX3LPaxmHKxFdv7VOQHJ', name='Liam', category='premade', description=None, labels={'accent': 'american', 'age': 'young', 'gender': 'male', 'use case': 'narration', 'description ': 'neutral'}, samples=None, settings=VoiceSettings(stability=0.5, similarity_boost=0.75), design=None, preview_url='https://storage.googleapis.com/eleven-public-prod/premade/voices/TX3LPaxmHKxFdv7VOQHJ/0a31b1ee-c075-4a60-afea-7542414f73f4.mp3'), Voice(voice_id='ThT5KcBeYPX3keUQqHPh', name='Dorothy', category='premade', description=None, labels={'accent': 'british', 'description': 'pleasant', 'age': 'young', 'gender': 'female', 'use case': \"children's stories\"}, samples=None, settings=VoiceSettings(stability=0.5, similarity_boost=0.75), design=None, preview_url='https://storage.googleapis.com/eleven-public-prod/premade/voices/ThT5KcBeYPX3keUQqHPh/b7eef75b-a36c-4bcd-b9a5-a485fd01a05c.mp3'), Voice(voice_id='TxGEqnHWrfWFTfGW9XjX', name='Josh', category='premade', description=None, labels={'accent': 'american', 'description': 'deep', 'age': 'young', 'gender': 'male', 'use case': 'narration'}, samples=None, settings=VoiceSettings(stability=0.5, similarity_boost=0.75), design=None, preview_url='https://storage.googleapis.com/eleven-public-prod/premade/voices/TxGEqnHWrfWFTfGW9XjX/e8603a09-9352-446a-8e1c-13bd49fda3fc.mp3'), Voice(voice_id='VR6AewLTigWG4xSOukaG', name='Arnold', category='premade', description=None, labels={'accent': 'american', 'description': 'crisp', 'age': 'middle aged', 'gender': 'male', 'use case': 'narration'}, samples=None, settings=VoiceSettings(stability=0.5, similarity_boost=0.75), design=None, preview_url='https://storage.googleapis.com/eleven-public-prod/premade/voices/VR6AewLTigWG4xSOukaG/716935f6-8a77-4d76-b1f4-66acfb3245d6.mp3'), Voice(voice_id='XB0fDUnXU5powFXDhCwa', name='Charlotte', category='premade', description=None, labels={'accent': 'english-swedish', 'description': 'seductive', 'age': 'middle aged', 'gender': 'female', 'use case': 'video games'}, samples=None, settings=VoiceSettings(stability=0.5, similarity_boost=0.75), design=None, preview_url='https://storage.googleapis.com/eleven-public-prod/premade/voices/XB0fDUnXU5powFXDhCwa/fc6e4bbf-5558-4cd3-8088-ab926d732819.mp3'), Voice(voice_id='XrExE9yKIg1WjnnlVkGX', name='Matilda', category='premade', description=None, labels={'accent': 'american', 'description': 'warm', 'age': 'young', 'gender': 'female', 'use case': 'audiobook'}, samples=None, settings=VoiceSettings(stability=0.5, similarity_boost=0.75), design=None, preview_url='https://storage.googleapis.com/eleven-public-prod/premade/voices/XrExE9yKIg1WjnnlVkGX/8aad7ddb-bc1c-4767-9f75-d85b62e4b586.mp3'), Voice(voice_id='Yko7PKHZNXotIFUBG7I9', name='Matthew', category='premade', description=None, labels={'accent': 'british', 'age': 'middle aged', 'gender': 'male', 'use case': 'audiobook', 'description ': 'calm'}, samples=None, settings=VoiceSettings(stability=0.5, similarity_boost=0.75), design=None, preview_url='https://storage.googleapis.com/eleven-public-prod/premade/voices/Yko7PKHZNXotIFUBG7I9/96a8c368-319f-47de-bc4e-bee568d5422e.mp3'), Voice(voice_id='ZQe5CZNOzWyzPSCn5a3c', name='James', category='premade', description=None, labels={'accent': 'australian', 'description': 'calm ', 'age': 'old', 'gender': 'male', 'use case': 'news'}, samples=None, settings=VoiceSettings(stability=0.5, similarity_boost=0.75), design=None, preview_url='https://storage.googleapis.com/eleven-public-prod/premade/voices/ZQe5CZNOzWyzPSCn5a3c/04050849-272f-483b-9b2a-ce8fee8e0a35.mp3'), Voice(voice_id='Zlb1dXrM653N07WRdFW3', name='Joseph', category='premade', description=None, labels={'accent': 'british', 'age': 'middle aged', 'gender': 'male', 'use case': 'news', 'description ': 'ground reporter '}, samples=None, settings=VoiceSettings(stability=0.5, similarity_boost=0.75), design=None, preview_url='https://storage.googleapis.com/eleven-public-prod/premade/voices/Zlb1dXrM653N07WRdFW3/ce0094e0-e3c5-49c8-881e-7b29bad1a645.mp3'), Voice(voice_id='bVMeCyTHy58xNoL34h3p', name='Jeremy', category='premade', description=None, labels={'accent': 'american-irish', 'description': 'excited', 'age': 'young', 'gender': 'male', 'use case': 'narration'}, samples=None, settings=VoiceSettings(stability=0.5, similarity_boost=0.75), design=None, preview_url='https://storage.googleapis.com/eleven-public-prod/premade/voices/bVMeCyTHy58xNoL34h3p/a3a2851d-dfe8-42ab-8bd4-9c6776668f5e.mp3'), Voice(voice_id='flq6f7yk4E4fJM5XTYuZ', name='Michael', category='premade', description=None, labels={'accent': 'american', 'age': 'old', 'gender': 'male', 'use case': 'audiobook', 'description ': 'orotund'}, samples=None, settings=VoiceSettings(stability=0.5, similarity_boost=0.75), design=None, preview_url='https://storage.googleapis.com/eleven-public-prod/premade/voices/flq6f7yk4E4fJM5XTYuZ/559b3fab-afa8-4535-ad18-1362ea23ea90.mp3'), Voice(voice_id='g5CIjZEefAph4nQFvHAz', name='Ethan', category='premade', description=None, labels={'accent': 'american', 'age': 'young', 'gender': 'male', 'use case': 'ASMR', 'description ': 'whisper'}, samples=None, settings=VoiceSettings(stability=0.5, similarity_boost=0.75), design=None, preview_url='https://storage.googleapis.com/eleven-public-prod/premade/voices/g5CIjZEefAph4nQFvHAz/e677d35a-4fd8-4d3d-8f05-4008ca902277.mp3'), Voice(voice_id='jBpfuIE2acCO8z3wKNLl', name='Gigi', category='premade', description=None, labels={'accent': 'american', 'description': 'childlish', 'age': 'young', 'gender': 'female', 'use case': 'animation'}, samples=None, settings=VoiceSettings(stability=0.5, similarity_boost=0.75), design=None, preview_url='https://storage.googleapis.com/eleven-public-prod/premade/voices/jBpfuIE2acCO8z3wKNLl/7619f4f5-25fc-4cd7-858e-26a6636b77cc.mp3'), Voice(voice_id='jsCqWAovK2LkecY7zXl4', name='Freya', category='premade', description=None, labels={'accent': 'american', 'age': 'young', 'gender': 'female', 'description ': 'overhyped', 'usecase': 'video games'}, samples=None, settings=VoiceSettings(stability=0.5, similarity_boost=0.75), design=None, preview_url='https://storage.googleapis.com/eleven-public-prod/premade/voices/jsCqWAovK2LkecY7zXl4/20ac2e68-b3cc-4f3d-ad2b-b55d3cca2c93.mp3'), Voice(voice_id='oWAxZDx7w5VEj9dCyTzz', name='Grace', category='premade', description=None, labels={'accent': 'american-southern', 'age': 'young', 'gender': 'female', 'use case': 'audiobook ', 'description ': 'gentle'}, samples=None, settings=VoiceSettings(stability=0.5, similarity_boost=0.75), design=None, preview_url='https://storage.googleapis.com/eleven-public-prod/premade/voices/oWAxZDx7w5VEj9dCyTzz/50ccf54b-fb50-472f-82b1-2eca5f01fa36.mp3'), Voice(voice_id='onwK4e9ZLuTAKqWW03F9', name='Daniel', category='premade', description=None, labels={'accent': 'british', 'description': 'deep', 'age': 'middle aged', 'gender': 'male', 'use case': 'news presenter'}, samples=None, settings=VoiceSettings(stability=0.5, similarity_boost=0.75), design=None, preview_url='https://storage.googleapis.com/eleven-public-prod/premade/voices/onwK4e9ZLuTAKqWW03F9/8dd0cfac-817c-467f-bcf0-4d8ab7745358.mp3'), Voice(voice_id='pMsXgVXv3BLzUgSXRplE', name='Serena', category='premade', description=None, labels={'accent': 'american', 'description': 'pleasant', 'age': 'middle aged', 'gender': 'female', 'use case': 'interactive'}, samples=None, settings=VoiceSettings(stability=0.5, similarity_boost=0.75), design=None, preview_url='https://storage.googleapis.com/eleven-public-prod/premade/voices/pMsXgVXv3BLzUgSXRplE/b27892fd-13c4-4d50-93aa-e365fe5b20d9.mp3'), Voice(voice_id='pNInz6obpgDQGcFmaJgB', name='Adam', category='premade', description=None, labels={'accent': 'american', 'description': 'deep', 'age': 'middle aged', 'gender': 'male', 'use case': 'narration'}, samples=None, settings=VoiceSettings(stability=0.5, similarity_boost=0.75), design=None, preview_url='https://storage.googleapis.com/eleven-public-prod/premade/voices/pNInz6obpgDQGcFmaJgB/cc8f165e-5e3a-4df0-80b6-7eca151bd67e.mp3'), Voice(voice_id='piTKgcLEGmPE4e6mEKli', name='Nicole', category='premade', description=None, labels={'accent': 'american', 'description': 'whisper', 'age': 'young', 'gender': 'female', 'use case': 'audiobook'}, samples=None, settings=VoiceSettings(stability=0.5, similarity_boost=0.75), design=None, preview_url='https://storage.googleapis.com/eleven-public-prod/premade/voices/piTKgcLEGmPE4e6mEKli/0f4e651a-0245-4e1b-9704-4e5c0055b266.mp3'), Voice(voice_id='t0jbNlBVZ17f02VDIeMI', name='Jessie', category='premade', description=None, labels={'accent': 'american', 'description': 'raspy ', 'age': 'old', 'gender': 'male', 'use case': 'video games'}, samples=None, settings=VoiceSettings(stability=0.5, similarity_boost=0.75), design=None, preview_url='https://storage.googleapis.com/eleven-public-prod/premade/voices/t0jbNlBVZ17f02VDIeMI/afe61b4a-5974-474a-b050-c094148894b9.mp3'), Voice(voice_id='wViXBPUzp2ZZixB1xQuM', name='Ryan', category='premade', description=None, labels={'age': 'middle aged', 'description': 'soldier', 'gender': 'male', 'use case': 'audiobook', 'accent ': 'american'}, samples=None, settings=VoiceSettings(stability=0.5, similarity_boost=0.75), design=None, preview_url='https://storage.googleapis.com/eleven-public-prod/premade/voices/wViXBPUzp2ZZixB1xQuM/76ddbbc2-ee59-4e8c-91e7-a6dc460ce7da.mp3'), Voice(voice_id='yoZ06aMxZJJ28mfd3POQ', name='Sam', category='premade', description=None, labels={'accent': 'american', 'description': 'raspy', 'age': 'young', 'gender': 'male', 'use case': 'narration'}, samples=None, settings=VoiceSettings(stability=0.5, similarity_boost=0.75), design=None, preview_url='https://storage.googleapis.com/eleven-public-prod/premade/voices/yoZ06aMxZJJ28mfd3POQ/46a56cfc-bde8-4fcf-854d-18c48f1d2d4e.mp3'), Voice(voice_id='z9fAnlkpzviPz146aGWa', name='Glinda', category='premade', description=None, labels={'accent': 'american', 'description': 'witch', 'age': 'middle aged', 'gender': 'female', 'use case': 'video games'}, samples=None, settings=VoiceSettings(stability=0.5, similarity_boost=0.75), design=None, preview_url='https://storage.googleapis.com/eleven-public-prod/premade/voices/z9fAnlkpzviPz146aGWa/8575dac8-ae36-40e3-bb30-4cab2b59e065.mp3'), Voice(voice_id='zcAOhNBS3c14rBihAFp1', name='Giovanni', category='premade', description=None, labels={'accent': 'english-italian', 'description': 'foreigner', 'age': 'young', 'gender': 'male', 'use case': 'audiobook'}, samples=None, settings=VoiceSettings(stability=0.5, similarity_boost=0.75), design=None, preview_url='https://storage.googleapis.com/eleven-public-prod/premade/voices/zcAOhNBS3c14rBihAFp1/4f9855ff-bac4-487f-a0d4-97bbb5527b9b.mp3'), Voice(voice_id='zrHiDhphv9ZnVXBqCLjz', name='Mimi', category='premade', description=None, labels={'accent': 'english-swedish', 'description': 'childish', 'age': 'young', 'gender': 'female', 'use case': 'animation'}, samples=None, settings=VoiceSettings(stability=0.5, similarity_boost=0.75), design=None, preview_url='https://storage.googleapis.com/eleven-public-prod/premade/voices/zrHiDhphv9ZnVXBqCLjz/f770c7dd-94b8-4140-b591-0aba5676ff6a.mp3'), Voice(voice_id='u8mujqx12FGe4jOwcE3r', name='new random ', category='generated', description='', labels={'accent': 'indian', 'age': 'middle_aged', 'gender': 'female'}, samples=None, settings=VoiceSettings(stability=0.5, similarity_boost=0.75), design=None, preview_url='https://storage.googleapis.com/eleven-public-prod/feEYIgN4mvYzjBTDmsYGi85BhpM2/voices/j80206XBdPnX0abmLtaT/fd4ea8bd-89d7-471e-9fdc-fcafd4f439f4.mp3')]\n"
     ]
    }
   ],
   "source": [
    "key = \"af233048324f53c647cc209a940dc9be\"\n",
    "from elevenlabs import set_api_key, generate, voices, play\n",
    "set_api_key(key)\n",
    "\n",
    "print(voices())\n",
    "\n",
    "# audio = generate(\n",
    "#     text= \"भुवाली की इस छोटी-सी कॉटेज में लेटा-लेटा मैं सामने के पहाड़ देखता हूँ। पानी-भरे, सूखे-सूखे बादलों के घेरे देखता हूँ। बिना आँखों के झटक-झटक जाती धुंध के निष्फल प्रयास देखता हूँ\",\n",
    "#     voice=\"Arnold\",\n",
    "#     model='eleven_multilingual_v1'\n",
    "# )\n",
    "\n",
    "# play(audio)\n",
    "\n"
   ]
  },
  {
   "cell_type": "code",
   "execution_count": 27,
   "outputs": [],
   "source": [
    "\n",
    "import requests\n",
    "\n",
    "CHUNK_SIZE = 1024\n",
    "url = \"https://api.elevenlabs.io/v1/text-to-speech/7xcjjRC0S6h4mxrYMKuZ\"\n",
    "\n",
    "headers = {\n",
    "  \"Accept\": \"audio/mpeg\",\n",
    "  \"Content-Type\": \"application/json\",\n",
    "  \"xi-api-key\": key\n",
    "}\n",
    "\n",
    "data = {\n",
    "  \"text\": \"आँसुओं (Tears) में कौनसा पदार्थ घुला रहता है ? - (A) सामान्य नमक - (B) समुद्र - (C) स्टार्च - (D) ग्लुकोस\",\n",
    "  \"model_id\": \"eleven_multilingual_v1\",\n",
    "  \"voice_settings\": {\n",
    "    \"stability\": 0.56,\n",
    "    \"similarity_boost\": 0.4\n",
    "  }\n",
    "}\n",
    "\n",
    "response = requests.post(url, json=data, headers=headers)\n",
    "with open('output.mp3', 'wb') as f:\n",
    "    for chunk in response.iter_content(chunk_size=CHUNK_SIZE):\n",
    "        if chunk:\n",
    "            f.write(chunk)\n"
   ],
   "metadata": {
    "collapsed": false,
    "ExecuteTime": {
     "end_time": "2023-07-15T22:29:31.915778Z",
     "start_time": "2023-07-15T22:29:28.320076Z"
    }
   }
  },
  {
   "cell_type": "code",
   "execution_count": null,
   "outputs": [],
   "source": [],
   "metadata": {
    "collapsed": false
   }
  }
 ],
 "metadata": {
  "kernelspec": {
   "display_name": "Python 3",
   "language": "python",
   "name": "python3"
  },
  "language_info": {
   "codemirror_mode": {
    "name": "ipython",
    "version": 2
   },
   "file_extension": ".py",
   "mimetype": "text/x-python",
   "name": "python",
   "nbconvert_exporter": "python",
   "pygments_lexer": "ipython2",
   "version": "2.7.6"
  }
 },
 "nbformat": 4,
 "nbformat_minor": 0
}
