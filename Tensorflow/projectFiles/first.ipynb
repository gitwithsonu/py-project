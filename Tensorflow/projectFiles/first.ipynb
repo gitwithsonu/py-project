{
 "cells": [
  {
   "cell_type": "code",
   "execution_count": 12,
   "metadata": {
    "ExecuteTime": {
     "end_time": "2023-06-15T20:07:57.797685Z",
     "start_time": "2023-06-15T20:07:57.792259Z"
    }
   },
   "outputs": [],
   "source": [
    "import tensorflow as tf\n",
    "import numpy as np"
   ]
  },
  {
   "cell_type": "code",
   "execution_count": 13,
   "metadata": {
    "ExecuteTime": {
     "end_time": "2023-06-15T20:07:57.804162Z",
     "start_time": "2023-06-15T20:07:57.796675Z"
    }
   },
   "outputs": [
    {
     "name": "stdout",
     "output_type": "stream",
     "text": [
      "tf.Tensor(4, shape=(), dtype=int32)\n"
     ]
    }
   ],
   "source": [
    "tensor_zero_d = tf.constant(4)\n",
    "print(tensor_zero_d)"
   ]
  },
  {
   "cell_type": "code",
   "execution_count": 14,
   "metadata": {
    "ExecuteTime": {
     "end_time": "2023-06-15T20:07:57.807200Z",
     "start_time": "2023-06-15T20:07:57.804398Z"
    }
   },
   "outputs": [
    {
     "name": "stdout",
     "output_type": "stream",
     "text": [
      "tf.Tensor(\n",
      "[[2 3 4 5]\n",
      " [1 2 3 5]], shape=(2, 4), dtype=int32)\n"
     ]
    }
   ],
   "source": [
    "tensor_2D = tf.constant([[2,3,4,5], [1,2,3, 5]])\n",
    "print(tensor_2D)"
   ]
  },
  {
   "cell_type": "code",
   "execution_count": 15,
   "metadata": {
    "ExecuteTime": {
     "end_time": "2023-06-15T20:07:57.839565Z",
     "start_time": "2023-06-15T20:07:57.812058Z"
    }
   },
   "outputs": [
    {
     "name": "stdout",
     "output_type": "stream",
     "text": [
      "tf.Tensor(\n",
      "[[[[1 2 3]\n",
      "   [1 2 3]\n",
      "   [1 2 3]]\n",
      "\n",
      "  [[1 2 3]\n",
      "   [1 2 3]\n",
      "   [1 2 3]]\n",
      "\n",
      "  [[1 2 3]\n",
      "   [1 2 3]\n",
      "   [1 2 3]]]\n",
      "\n",
      "\n",
      " [[[1 2 3]\n",
      "   [1 2 3]\n",
      "   [1 2 3]]\n",
      "\n",
      "  [[1 2 3]\n",
      "   [1 2 3]\n",
      "   [1 2 3]]\n",
      "\n",
      "  [[1 2 3]\n",
      "   [1 2 3]\n",
      "   [1 2 3]]]], shape=(2, 3, 3, 3), dtype=int32)\n"
     ]
    }
   ],
   "source": [
    "# Creating 4D Tensor\n",
    "\n",
    "tensor_4D = tf.constant(\n",
    "    [\n",
    "        [\n",
    "            [\n",
    "                [1,2,3],\n",
    "                [1,2,3],\n",
    "                [1,2,3]\n",
    "            ],\n",
    "            [\n",
    "                [1,2,3],\n",
    "                [1,2,3],\n",
    "                [1,2,3],\n",
    "            ],\n",
    "            [\n",
    "                [1,2,3],\n",
    "                [1,2,3],\n",
    "                [1,2,3]\n",
    "            ]\n",
    "        ],\n",
    "        [\n",
    "            [\n",
    "                [1,2,3],\n",
    "                [1,2,3],\n",
    "                [1,2,3]\n",
    "            ],\n",
    "            [\n",
    "                [1,2,3],\n",
    "                [1,2,3],\n",
    "                [1,2,3],\n",
    "            ],\n",
    "            [\n",
    "                [1,2,3],\n",
    "                [1,2,3],\n",
    "                [1,2,3]\n",
    "            ]\n",
    "        ]\n",
    "    ]\n",
    ")\n",
    "print(tensor_4D)"
   ]
  },
  {
   "cell_type": "code",
   "execution_count": 16,
   "metadata": {
    "ExecuteTime": {
     "end_time": "2023-06-15T20:07:57.840189Z",
     "start_time": "2023-06-15T20:07:57.817386Z"
    }
   },
   "outputs": [
    {
     "name": "stdout",
     "output_type": "stream",
     "text": [
      "tf.Tensor([1 2 4], shape=(3,), dtype=int64)\n"
     ]
    }
   ],
   "source": [
    "x = np.array([1,2,4])\n",
    "tf_x = tf.convert_to_tensor(x)\n",
    "print(tf_x)"
   ]
  },
  {
   "cell_type": "code",
   "execution_count": 17,
   "metadata": {
    "ExecuteTime": {
     "end_time": "2023-06-15T20:07:57.840857Z",
     "start_time": "2023-06-15T20:07:57.824038Z"
    }
   },
   "outputs": [
    {
     "name": "stdout",
     "output_type": "stream",
     "text": [
      "tf.Tensor(\n",
      "[[1. 0. 0. 0.]\n",
      " [0. 1. 0. 0.]\n",
      " [0. 0. 1. 0.]\n",
      " [0. 0. 0. 1.]], shape=(4, 4), dtype=float32)\n",
      "tf.Tensor(\n",
      "[[ True False False False]\n",
      " [False  True False False]\n",
      " [False False  True False]], shape=(3, 4), dtype=bool)\n",
      "tf.Tensor(\n",
      "[[[1. 0. 0. 0.]\n",
      "  [0. 1. 0. 0.]\n",
      "  [0. 0. 1. 0.]\n",
      "  [0. 0. 0. 1.]]\n",
      "\n",
      " [[1. 0. 0. 0.]\n",
      "  [0. 1. 0. 0.]\n",
      "  [0. 0. 1. 0.]\n",
      "  [0. 0. 0. 1.]]], shape=(2, 4, 4), dtype=float32)\n"
     ]
    }
   ],
   "source": [
    "# tf.eye used for Identify Matrix\n",
    "\n",
    "\n",
    "# eye_tensor = tf.eye(\n",
    "#     num_rows=None,\n",
    "#     num_columns=None,\n",
    "#     batch_shape=None,\n",
    "#     dtype= tf.dtypes.float32,\n",
    "#     name=None\n",
    "# )\n",
    "\n",
    "\n",
    "identity_matrix = tf.eye(num_rows=4)\n",
    "print(identity_matrix)\n",
    "second_identity_matrix = tf.eye(num_rows=3, num_columns=4, dtype= tf.dtypes.bool)\n",
    "print(second_identity_matrix)\n",
    "\n",
    "# Now let know what is batch_shape\n",
    "# batch_shape is used for extending matrix in 3D or Higher Dimension\n",
    "\n",
    "\n",
    "third_identity_matrix = tf.eye(num_rows=4, batch_shape=[2])\n",
    "print(third_identity_matrix)"
   ]
  },
  {
   "cell_type": "code",
   "execution_count": 18,
   "metadata": {
    "ExecuteTime": {
     "end_time": "2023-06-15T20:07:57.841159Z",
     "start_time": "2023-06-15T20:07:57.832022Z"
    }
   },
   "outputs": [
    {
     "name": "stdout",
     "output_type": "stream",
     "text": [
      "tf.Tensor(\n",
      "[[1. 1. 1. 1. 1.]\n",
      " [1. 1. 1. 1. 1.]\n",
      " [1. 1. 1. 1. 1.]\n",
      " [1. 1. 1. 1. 1.]], shape=(4, 5), dtype=float64)\n"
     ]
    }
   ],
   "source": [
    "# tf.ones method in tensor creates a given dimension size Matrix with every element = 1\n",
    "\n",
    "ones_tensor = tf.ones(\n",
    "    [4,5],\n",
    "    dtype = tf.dtypes.float64,\n",
    "    name=None\n",
    ")\n",
    "print(ones_tensor)"
   ]
  },
  {
   "cell_type": "code",
   "execution_count": 19,
   "metadata": {
    "ExecuteTime": {
     "end_time": "2023-06-15T20:07:57.841528Z",
     "start_time": "2023-06-15T20:07:57.836146Z"
    }
   },
   "outputs": [
    {
     "name": "stdout",
     "output_type": "stream",
     "text": [
      "tf.Tensor(\n",
      "[[1. 1. 1.]\n",
      " [1. 1. 1.]], shape=(2, 3), dtype=float64)\n"
     ]
    }
   ],
   "source": [
    "# tf.ones_like this is a method in tensorFlow for creating a ones Tensor of same shape of provided Tensor\n",
    "\n",
    "onesLike = tf.ones_like(\n",
    "    [[1,2,3],[2,3,4]],\n",
    "    dtype = tf.dtypes.float64,\n",
    "    name = None\n",
    ")\n",
    "print(onesLike)"
   ]
  },
  {
   "cell_type": "code",
   "execution_count": 20,
   "metadata": {
    "ExecuteTime": {
     "end_time": "2023-06-15T20:07:57.847773Z",
     "start_time": "2023-06-15T20:07:57.843507Z"
    }
   },
   "outputs": [
    {
     "name": "stdout",
     "output_type": "stream",
     "text": [
      "tf.Tensor(\n",
      "[[0. 0. 0.]\n",
      " [0. 0. 0.]], shape=(2, 3), dtype=float64)\n"
     ]
    }
   ],
   "source": [
    "# tf.zeros_like this is a method in tensorFlow for creating a zeros Tensor of same shape of provided Tensor\n",
    "\n",
    "zerosLike = tf.zeros_like(\n",
    "    [[1,2,3],[2,3,4]],\n",
    "    dtype = tf.dtypes.float64,\n",
    "    name = None\n",
    ")\n",
    "print(zerosLike)"
   ]
  },
  {
   "cell_type": "code",
   "execution_count": 50,
   "metadata": {
    "ExecuteTime": {
     "end_time": "2023-06-15T20:24:39.679017Z",
     "start_time": "2023-06-15T20:24:39.135613Z"
    }
   },
   "outputs": [
    {
     "name": "stdout",
     "output_type": "stream",
     "text": [
      "tf.Tensor(26.040076785921894, shape=(), dtype=float64)\n"
     ]
    }
   ],
   "source": [
    " # we can generate various random tensor using tf library\n",
    "# 1. First method is via using normal distribution\n",
    "# 2. Second method is via using Uniform distribution\n",
    "# 3. Gaussian Distribution......\n",
    "# .......so on many-many Distribution we can Have............\n",
    "\n",
    "random_tensor = tf.random.normal(\n",
    "    [5,2],\n",
    "    mean= 100.0,\n",
    "    stddev=5.0,\n",
    "    dtype=tf.dtypes.float64,\n",
    "    seed=None,\n",
    "    name=None\n",
    ")\n",
    "#print(random_tensor)\n",
    "\n",
    "random_uniform_tensor = tf.random.uniform(\n",
    "    [1,200],\n",
    "    minval=0,\n",
    "    maxval=50,\n",
    "    dtype=tf.dtypes.float64,\n",
    "    name=None,\n",
    "    seed=None\n",
    ")\n",
    "x = tf.reduce_sum(random_uniform_tensor)\n",
    "print(x/200)\n",
    "# print(random_uniform_tensor)"
   ]
  },
  {
   "cell_type": "code",
   "execution_count": 22,
   "metadata": {
    "ExecuteTime": {
     "end_time": "2023-06-15T20:07:57.933368Z",
     "start_time": "2023-06-15T20:07:57.856161Z"
    }
   },
   "outputs": [
    {
     "data": {
      "text/plain": "1"
     },
     "execution_count": 22,
     "metadata": {},
     "output_type": "execute_result"
    }
   ],
   "source": [
    "1"
   ]
  }
 ],
 "metadata": {
  "kernelspec": {
   "display_name": "Python 3 (ipykernel)",
   "language": "python",
   "name": "python3"
  },
  "language_info": {
   "codemirror_mode": {
    "name": "ipython",
    "version": 3
   },
   "file_extension": ".py",
   "mimetype": "text/x-python",
   "name": "python",
   "nbconvert_exporter": "python",
   "pygments_lexer": "ipython3",
   "version": "3.10.10"
  }
 },
 "nbformat": 4,
 "nbformat_minor": 1
}
