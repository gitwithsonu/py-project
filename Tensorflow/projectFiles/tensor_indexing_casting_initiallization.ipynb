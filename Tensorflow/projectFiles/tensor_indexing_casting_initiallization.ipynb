{
 "cells": [
  {
   "cell_type": "code",
   "execution_count": 3,
   "metadata": {
    "collapsed": true,
    "ExecuteTime": {
     "end_time": "2023-06-15T20:33:27.480997Z",
     "start_time": "2023-06-15T20:33:23.823410Z"
    }
   },
   "outputs": [],
   "source": [
    "import tensorflow as tf\n",
    "import numpy as np"
   ]
  },
  {
   "cell_type": "code",
   "execution_count": 22,
   "outputs": [
    {
     "name": "stdout",
     "output_type": "stream",
     "text": [
      "tf.Tensor([[1 2 3 4 5]], shape=(1, 5), dtype=int32)\n"
     ]
    }
   ],
   "source": [
    "tensor = tf.constant([[1,2,-23,4,5],[-25,6,7,-48,6]])\n",
    "# for getting range of tensor we can do via\n",
    "# x = tensor[start:end:stapes]\n",
    "start = 0\n",
    "end = 5\n",
    "stapes = 2\n",
    "print(tensor[start:end:stapes, :])\n"
   ],
   "metadata": {
    "collapsed": false,
    "ExecuteTime": {
     "end_time": "2023-06-15T20:40:13.589224Z",
     "start_time": "2023-06-15T20:40:13.586605Z"
    }
   }
  },
  {
   "cell_type": "markdown",
   "source": [
    "## tf.abs()\n",
    "#### Convert  a tensor's all value to absolute value\n",
    "#### we wil use tf.abs() function"
   ],
   "metadata": {
    "collapsed": false
   }
  },
  {
   "cell_type": "code",
   "execution_count": 33,
   "outputs": [
    {
     "name": "stdout",
     "output_type": "stream",
     "text": [
      "tf.Tensor(\n",
      "[[1 2 3 4 5]\n",
      " [5 6 7 8 6]], shape=(2, 5), dtype=int32)\n"
     ]
    }
   ],
   "source": [
    "# tf.identity is used just for deep copying the data of another tensor\n",
    "x = tf.identity(tensor)\n",
    "tf.abs(x)\n",
    "print(x)"
   ],
   "metadata": {
    "collapsed": false,
    "ExecuteTime": {
     "end_time": "2023-06-15T21:07:07.451247Z",
     "start_time": "2023-06-15T21:07:07.444898Z"
    }
   }
  },
  {
   "cell_type": "markdown",
   "source": [
    "# Using some mathematical Operation for calculation\n",
    "#### tf.add(), tf.subtract(), tf.multiply(), tf.divide()\n",
    "\n",
    "# tf.math.divide_no_nan\n",
    "#### when we use tf.math.divide_no_nan It gives an error in case when some element get divided by 0"
   ],
   "metadata": {
    "collapsed": false
   }
  },
  {
   "cell_type": "code",
   "execution_count": null,
   "outputs": [],
   "source": [],
   "metadata": {
    "collapsed": false
   }
  }
 ],
 "metadata": {
  "kernelspec": {
   "display_name": "Python 3",
   "language": "python",
   "name": "python3"
  },
  "language_info": {
   "codemirror_mode": {
    "name": "ipython",
    "version": 2
   },
   "file_extension": ".py",
   "mimetype": "text/x-python",
   "name": "python",
   "nbconvert_exporter": "python",
   "pygments_lexer": "ipython2",
   "version": "2.7.6"
  }
 },
 "nbformat": 4,
 "nbformat_minor": 0
}
