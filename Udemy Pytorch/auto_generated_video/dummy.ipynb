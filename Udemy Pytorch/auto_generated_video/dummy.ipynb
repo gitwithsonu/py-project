{
 "cells": [
  {
   "cell_type": "code",
   "execution_count": 1,
   "metadata": {
    "collapsed": true,
    "ExecuteTime": {
     "end_time": "2023-07-15T20:24:02.809722Z",
     "start_time": "2023-07-15T20:24:02.734487Z"
    }
   },
   "outputs": [
    {
     "name": "stdout",
     "output_type": "stream",
     "text": [
      "True\n"
     ]
    }
   ],
   "source": [
    "from PIL import Image, ImageDraw, ImageFont, features\n",
    "print(features.check(\"raqm\"))\n",
    "\n",
    "# create an image\n",
    "img = Image.new('RGB', (500, 500), color=(255, 255, 255))\n",
    "\n",
    "# add Hindi text to the image\n",
    "draw = ImageDraw.Draw(img)\n",
    "text = \"हिन्दी टेक्स्ट\"\n",
    "font = ImageFont.truetype('Lohit-Devanagari.ttf', 36, layout_engine=ImageFont.Layout.RAQM)\n",
    "draw.text((100, 200), text, font=font, fill=(0, 0, 0))\n",
    "\n",
    "# save the image\n",
    "img.save('hindi_text.png')"
   ]
  },
  {
   "cell_type": "code",
   "execution_count": 19,
   "outputs": [],
   "source": [
    "from PIL import Image, ImageDraw, ImageFont\n",
    "import textwrap\n",
    "\n",
    "# Create an image\n",
    "img = Image.new('RGBA', (1000, 1000), color=(255, 255, 255, 190))\n",
    "\n",
    "# Add Hindi text to the image\n",
    "draw = ImageDraw.Draw(img)\n",
    "text = \"2004 में एक सहेली ने एक दिन मुझसे कहा: हर दिन तुम जल्दी उठती हो और दिन भर कपड़े काटने में व्यस्त रहती हो, तुम खुद को थका देती हो, फिर भी तुम धन अर्जित नहीं कर पाती हो। आज का समाज पैसे कमाने के लिए जीभ पर निर्भर करता है, जैसा कि इस लोकप्रिय कहावत में कहा गया है: मजबूत हाथों और पैरों की तुलना में एक चतुराईपूर्ण ज़ुबान का होना बेहतर है। तुम जानती हो कि अब मैं प्रत्यक्ष बिक्री व्यवसाय में सौंदर्य प्रसाधन उत्पादों को बेच रही हूँ, न केवल यह मुझे सुंदर बनाता है, मुझे हर दिन बहुत अधिक प्रयास करने की आवश्यकता नहीं होती है, बहुत सारे पैसे कमाने के लिए मुझे बस अपने ग्राहकों से कुछ बातें करनी होती हैं और अपने उत्पादों को बेचना होता है। तुम अपना काम बदलकर मेरे साथ सौंदर्य प्रसाधन उत्पादों को बेचने क्यों नहीं आ जाती हो? मैंने अपनी सहेली को देखा, वह वास्तव में पहले से कहीं अधिक सुंदर थी, और फिर मैंने सोचा कि किस तरह मैं 10 साल से अधिक समय के लिए बस कपड़े बनाये जा रही थी, कैसे मैं वास्तव में इस काम में कोई धन अर्जित नहीं कर पाई थी, और कैसे अब मैं जवान तो हो नहीं रही थी। अगर यह वास्तव में ऐसा ही था जैसा कि मेरी सहेली बता रही थी, अगर अपना काम बदल कर प्रसाधन उत्पादों को बेचकर मैं आसानी से धन अर्जित कर सकती थी, और यहाँ तक कि मैं अधिक युवा और सुन्दर भी लग सकती थी और दूसरों से बड़ी प्रशंसा भी पा सकती थी, तो वह तो बहुत बेहतर होगा! जब मैंने इस बारे में सोचा, तो मैंने उसे बिलकुल वहीं कह दिया कि मैं उस कंपनी का एक हिस्सा बनने के लिए तैयार थी। बाद में, एक निरीक्षण के बाद, मैंने 3,000 युआन मूल्य के उत्पादों को खरीद लिया, और मैंने इस कंपनी के लिए सौंदर्य प्रसाधन उद्योग में एक सौंदर्य सलाहकार के रूप में अपना काम शुरू कर दिया।\"\n",
    "font = ImageFont.truetype('Lohit-Devanagari.ttf', 25, layout_engine=ImageFont.Layout.RAQM)\n",
    "text_color = (0, 0, 0)\n",
    "text_position = (20, 20)\n",
    "\n",
    "# Wrap the text to fit within the maximum width\n",
    "wrapped_text = textwrap.wrap(text, width=90)\n",
    "\n",
    "# Get the size of the multiline text\n",
    "# multiline_text_size = font.getsize_multiline('\\n'.join(wrapped_text))\n",
    "\n",
    "# Draw the wrapped text\n",
    "line_height = 40  # Get the height of a typical character in the font\n",
    "for line in wrapped_text:\n",
    "    draw.text(text_position, line, font=font, fill=text_color)\n",
    "    text_position = (text_position[0], text_position[1] + line_height)\n",
    "    # line_height += line_height\n",
    "\n",
    "# Save the image\n",
    "img.save('hindi_text.png')"
   ],
   "metadata": {
    "collapsed": false,
    "ExecuteTime": {
     "end_time": "2023-07-15T22:34:05.741903Z",
     "start_time": "2023-07-15T22:34:05.664339Z"
    }
   }
  },
  {
   "cell_type": "code",
   "execution_count": 1,
   "outputs": [],
   "source": [
    "import random\n",
    "import json\n",
    "x = []\n",
    "\n",
    "\n",
    "for i in range(20):\n",
    "    random.shuffle(x)\n",
    "\n",
    "d = {\n",
    "    \"a\":x\n",
    "}\n",
    "\n",
    "json_object = json.dumps(d, indent=4)\n",
    "\n",
    "# Writing to sample.json\n",
    "with open(\"dummy.json\", \"w\") as outfile:\n",
    "    outfile.write(json_object)\n",
    "\n",
    "\n",
    "\n"
   ],
   "metadata": {
    "collapsed": false,
    "ExecuteTime": {
     "end_time": "2023-07-16T19:17:07.195293Z",
     "start_time": "2023-07-16T19:17:07.186719Z"
    }
   }
  },
  {
   "cell_type": "code",
   "execution_count": null,
   "outputs": [],
   "source": [],
   "metadata": {
    "collapsed": false
   }
  }
 ],
 "metadata": {
  "kernelspec": {
   "display_name": "Python 3",
   "language": "python",
   "name": "python3"
  },
  "language_info": {
   "codemirror_mode": {
    "name": "ipython",
    "version": 2
   },
   "file_extension": ".py",
   "mimetype": "text/x-python",
   "name": "python",
   "nbconvert_exporter": "python",
   "pygments_lexer": "ipython2",
   "version": "2.7.6"
  }
 },
 "nbformat": 4,
 "nbformat_minor": 0
}
