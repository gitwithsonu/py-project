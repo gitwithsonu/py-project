{
 "cells": [
  {
   "cell_type": "code",
   "execution_count": 2,
   "metadata": {
    "collapsed": true,
    "ExecuteTime": {
     "end_time": "2023-05-18T08:21:12.485049Z",
     "start_time": "2023-05-18T08:21:09.755265Z"
    }
   },
   "outputs": [
    {
     "data": {
      "text/plain": "tensor([1.0966])"
     },
     "execution_count": 2,
     "metadata": {},
     "output_type": "execute_result"
    }
   ],
   "source": [
    "import torch\n",
    "from torch import nn\n",
    "import matplotlib.pyplot as plt\n",
    "from pathlib import Path\n",
    "import time\n",
    "# creating a known Parameter\n",
    "\n",
    "weight = 0.7\n",
    "bias = 0.3\n",
    "\n",
    "# Creating\n",
    "\n",
    "start = 0\n",
    "end = 1\n",
    "stape = 0.01\n",
    "\n",
    "X = torch.arange(start, end, stape)\n",
    "Y = weight*X + bias\n",
    "torch.randn(1)"
   ]
  },
  {
   "cell_type": "code",
   "execution_count": 3,
   "outputs": [],
   "source": [
    "# splitting data into training and test sets\n",
    "train_split = int(len(X)*0.8)\n",
    "x_train, y_train =  X[:train_split], Y[:train_split]\n",
    "x_test,  y_test = X[train_split:], Y[train_split:]\n"
   ],
   "metadata": {
    "collapsed": false,
    "ExecuteTime": {
     "end_time": "2023-05-18T08:21:12.487003Z",
     "start_time": "2023-05-18T08:21:12.484733Z"
    }
   }
  },
  {
   "cell_type": "code",
   "execution_count": 4,
   "outputs": [],
   "source": [
    "class SimpleModel(nn.Module):\n",
    "    def __init__(self):\n",
    "        super().__init__()\n",
    "        self.weights = nn.Parameter(torch.randn(1, requires_grad=True))\n",
    "        self.bias = nn.Parameter((torch.randn(1, requires_grad=True)))\n",
    "\n",
    "    def forward(self, x:torch.Tensor) -> torch.Tensor:\n",
    "        return self.weights*x + self.bias\n"
   ],
   "metadata": {
    "collapsed": false,
    "ExecuteTime": {
     "end_time": "2023-05-18T08:21:12.487221Z",
     "start_time": "2023-05-18T08:21:12.485368Z"
    }
   }
  },
  {
   "cell_type": "code",
   "execution_count": 5,
   "outputs": [
    {
     "data": {
      "text/plain": "[Parameter containing:\n tensor([-0.4094], requires_grad=True),\n Parameter containing:\n tensor([1.2273], requires_grad=True)]"
     },
     "execution_count": 5,
     "metadata": {},
     "output_type": "execute_result"
    }
   ],
   "source": [
    "# creating a random seed\n",
    "torch.manual_seed(-12)\n",
    "\n",
    "model_0 = SimpleModel()\n",
    "# checking out parameters\n",
    "\n",
    "list(model_0.parameters())\n"
   ],
   "metadata": {
    "collapsed": false,
    "ExecuteTime": {
     "end_time": "2023-05-18T08:21:12.493572Z",
     "start_time": "2023-05-18T08:21:12.487622Z"
    }
   }
  },
  {
   "cell_type": "code",
   "execution_count": 6,
   "outputs": [
    {
     "data": {
      "text/plain": "<matplotlib.collections.PathCollection at 0x121580940>"
     },
     "execution_count": 6,
     "metadata": {},
     "output_type": "execute_result"
    },
    {
     "data": {
      "text/plain": "<Figure size 640x480 with 1 Axes>",
      "image/png": "[encoded data removed]"
     },
     "metadata": {},
     "output_type": "display_data"
    }
   ],
   "source": [
    "plt.scatter(x_train, y_train, color=\"green\", s=4)\n",
    "plt.scatter(x_test, y_test, s=4)\n",
    "# detach is used for removing computation Graph from Tensor\n",
    "# meaning is just removing requires_grad\n",
    "plt.scatter(x_test, model_0(x_test).detach().numpy(), s=4)\n"
   ],
   "metadata": {
    "collapsed": false,
    "ExecuteTime": {
     "end_time": "2023-05-18T08:21:12.699808Z",
     "start_time": "2023-05-18T08:21:12.495210Z"
    }
   }
  },
  {
   "cell_type": "markdown",
   "source": [
    "# using ***inference_mode()***\n",
    "##### it turns off all those modes which are\n",
    "##### required ---only--- during training time.\n",
    "\n",
    "## example\n",
    "```Python\n",
    "with torch.inference_mode():\n",
    "    print(\"in this block any task done will avoid task that is not used during training\")\n",
    "```\n"
   ],
   "metadata": {
    "collapsed": false
   }
  },
  {
   "cell_type": "code",
   "execution_count": 7,
   "outputs": [
    {
     "data": {
      "text/plain": "tensor([0.8998, 0.8957, 0.8916, 0.8875, 0.8834, 0.8793, 0.8752, 0.8711, 0.8670,\n        0.8629, 0.8589, 0.8548, 0.8507, 0.8466, 0.8425, 0.8384, 0.8343, 0.8302,\n        0.8261, 0.8220])"
     },
     "execution_count": 7,
     "metadata": {},
     "output_type": "execute_result"
    }
   ],
   "source": [
    "# example\n",
    "with torch.inference_mode():\n",
    "    y_predict = model_0(x_test)\n",
    "y_predict"
   ],
   "metadata": {
    "collapsed": false,
    "ExecuteTime": {
     "end_time": "2023-05-18T08:21:12.705777Z",
     "start_time": "2023-05-18T08:21:12.696882Z"
    }
   }
  },
  {
   "cell_type": "code",
   "execution_count": 8,
   "outputs": [],
   "source": [
    "# # setup loss function\n",
    "# loss_fn = nn.L1Loss()\n",
    "# loss_fn(y_predict, x_test)\n",
    "#\n",
    "# print(loss_fn(y_predict, y_test))\n",
    "# # setup Optimizer (stochastic gradient descent)\n",
    "# optimizer = torch.optim.SGD(params=model_0.parameters(), lr=0.01)\n",
    "# # loss_fn(model_0(x_test), y_test)\n",
    "#\n",
    "# print(loss_fn(model_0(x_test), y_test))\n"
   ],
   "metadata": {
    "collapsed": false,
    "ExecuteTime": {
     "end_time": "2023-05-18T08:21:12.710547Z",
     "start_time": "2023-05-18T08:21:12.706670Z"
    }
   }
  },
  {
   "cell_type": "markdown",
   "source": [
    "### there are total 6 steps of training the model\n",
    "####  0. Looping through the data\n",
    "##### -----setting the model to the training mode\n",
    "####  1. Forward pass\n",
    "##### -----Meaning predicting the result on current given model\n",
    "```Python\n",
    "y_pred = model_0(x_train)\n",
    "```\n",
    "###   2. Calculating the loss\n",
    "##### -----Loss can be calculated via any method based on requirement of the model\n",
    "```Python\n",
    "loss = loss_fn(y_pred,y_test)\n",
    "```\n",
    "###   3. Optimizer zero grad\n",
    "#### -----It Optimizes gradient\n",
    "```Python\n",
    "optimizer.zero_grad()\n",
    "```\n",
    "###   4. perform backPropagation on the loss with respect to the parameters of the model\n",
    "```Python\n",
    "loss.backwaed()\n",
    "```\n",
    "###   5. step the optimizer perform gradient descent\n",
    "```Python\n",
    "optimizer.step()\n",
    "```\n"
   ],
   "metadata": {
    "collapsed": false
   }
  },
  {
   "cell_type": "code",
   "execution_count": 9,
   "outputs": [
    {
     "data": {
      "text/plain": "<Figure size 640x480 with 1 Axes>",
      "image/png": "[encoded data removed]"
     },
     "metadata": {},
     "output_type": "display_data"
    }
   ],
   "source": [
    "epochs = 200\n",
    "loss_fn = nn.L1Loss()\n",
    "optimizer = torch.optim.SGD(params=model_0.parameters(), lr=0.1)\n",
    "for epoch in range(epochs):\n",
    "    # we are using model_0.train to bring back all the parameters in to gradient mode\n",
    "    # meaning if it was sated in inference mode.\n",
    "    model_0.train()\n",
    "    # the below code starts predicting the model\n",
    "    y_predict = model_0(x_train)\n",
    "    # for calculating the loss\n",
    "    loss = loss_fn(y_predict, y_train)\n",
    "    # it optimizes the model with zero grad\n",
    "    optimizer.zero_grad()\n",
    "    # loss.backward does back\n",
    "    loss.backward()\n",
    "\n",
    "    optimizer.step()\n",
    "    model_0.eval()\n",
    "\n",
    "    if epoch%5 == 0:\n",
    "        plt.scatter(x_train, y_train, color=\"green\", s=4)\n",
    "        plt.scatter(x_test, y_test, s=4)\n",
    "        # detach is used for removing computation Graph from Tensor\n",
    "        # meaning is just removing requires_grad\n",
    "        plt.scatter(x_test, model_0(x_test).detach().numpy(), s=4)\n",
    "\n"
   ],
   "metadata": {
    "collapsed": false,
    "ExecuteTime": {
     "end_time": "2023-05-18T08:21:13.557768Z",
     "start_time": "2023-05-18T08:21:12.714546Z"
    }
   }
  },
  {
   "cell_type": "code",
   "execution_count": 10,
   "outputs": [
    {
     "name": "stdout",
     "output_type": "stream",
     "text": [
      "OrderedDict([('weights', tensor([0.6610])), ('bias', tensor([0.3448]))])\n"
     ]
    }
   ],
   "source": [
    "## this shows State dict of model\n",
    "print(model_0.state_dict())"
   ],
   "metadata": {
    "collapsed": false,
    "ExecuteTime": {
     "end_time": "2023-05-18T08:21:13.561033Z",
     "start_time": "2023-05-18T08:21:13.557074Z"
    }
   }
  },
  {
   "cell_type": "code",
   "execution_count": 13,
   "outputs": [],
   "source": [
    "# now let save trained model to use\n",
    "# 1. Create model Directory\n",
    "MODEL_PATH = Path(\"models\")\n",
    "MODEL_PATH.mkdir(parents = True,exist_ok=True)\n",
    "\n",
    "# 2. Creating Model Save path\n",
    "#    .pth or .pt is extension for PyTorch Model file.\n",
    "MODEL_NAME = \"model_0.pth\"\n",
    "\n",
    "MODEL_SAVE_PATH = MODEL_PATH / MODEL_NAME\n",
    "\n",
    "torch.save(obj=model_0.state_dict(), f = MODEL_SAVE_PATH)\n"
   ],
   "metadata": {
    "collapsed": false,
    "ExecuteTime": {
     "end_time": "2023-05-18T08:27:15.071319Z",
     "start_time": "2023-05-18T08:27:15.065110Z"
    }
   }
  },
  {
   "cell_type": "markdown",
   "source": [
    "## Now It's time for using saved model"
   ],
   "metadata": {
    "collapsed": false
   }
  }
 ],
 "metadata": {
  "kernelspec": {
   "display_name": "Python 3",
   "language": "python",
   "name": "python3"
  },
  "language_info": {
   "codemirror_mode": {
    "name": "ipython",
    "version": 2
   },
   "file_extension": ".py",
   "mimetype": "text/x-python",
   "name": "python",
   "nbconvert_exporter": "python",
   "pygments_lexer": "ipython2",
   "version": "2.7.6"
  }
 },
 "nbformat": 4,
 "nbformat_minor": 0
}
